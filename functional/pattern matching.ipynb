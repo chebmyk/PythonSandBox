{
 "cells": [
  {
   "cell_type": "code",
   "id": "initial_id",
   "metadata": {
    "collapsed": true,
    "ExecuteTime": {
     "end_time": "2025-03-30T01:59:47.183667Z",
     "start_time": "2025-03-30T01:59:47.175542Z"
    }
   },
   "source": [
    "def respond(language: str) -> str:\n",
    "    match language:\n",
    "        case \"Python\":\n",
    "            return \"Hello, Python!\"\n",
    "        case \"JavaScript\":\n",
    "            return \"Hello, JavaScript!\"\n",
    "        case \"Java\":\n",
    "            return \"Hello, Java!\"\n",
    "        case _:\n",
    "            return \"Hello, World!\""
   ],
   "outputs": [],
   "execution_count": 1
  },
  {
   "metadata": {
    "ExecuteTime": {
     "end_time": "2025-03-30T01:59:47.197039Z",
     "start_time": "2025-03-30T01:59:47.189755Z"
    }
   },
   "cell_type": "code",
   "source": "respond(\"Python\")",
   "id": "298b28bd7df4690d",
   "outputs": [
    {
     "data": {
      "text/plain": [
       "'Hello, Python!'"
      ]
     },
     "execution_count": 2,
     "metadata": {},
     "output_type": "execute_result"
    }
   ],
   "execution_count": 2
  },
  {
   "metadata": {
    "ExecuteTime": {
     "end_time": "2025-03-30T02:00:07.530224Z",
     "start_time": "2025-03-30T02:00:07.520269Z"
    }
   },
   "cell_type": "code",
   "source": "respond(\"f\")",
   "id": "fb2d1b2c4cf58f4e",
   "outputs": [
    {
     "data": {
      "text/plain": [
       "'Hello, World!'"
      ]
     },
     "execution_count": 3,
     "metadata": {},
     "output_type": "execute_result"
    }
   ],
   "execution_count": 3
  },
  {
   "metadata": {
    "ExecuteTime": {
     "end_time": "2025-03-30T02:01:24.934459Z",
     "start_time": "2025-03-30T02:01:24.927468Z"
    }
   },
   "cell_type": "code",
   "source": [
    "def respond2(language: str) -> str:\n",
    "    match language:\n",
    "        case \"Python\":\n",
    "            return \"Hello, Python!\"\n",
    "        case \"JavaScript\" | \"Java\":\n",
    "            return \"Hello, Java....!\"\n",
    "        case _:\n",
    "            return \"Hello, World!\""
   ],
   "id": "85df2f547b991baf",
   "outputs": [],
   "execution_count": 7
  },
  {
   "metadata": {
    "ExecuteTime": {
     "end_time": "2025-03-30T02:01:50.138848Z",
     "start_time": "2025-03-30T02:01:50.132449Z"
    }
   },
   "cell_type": "code",
   "source": [
    "print(respond2(\"Python\"))\n",
    "print(respond2(\"Java\"))\n",
    "print(respond2(\"JavaScript\"))\n"
   ],
   "id": "f24e8aa502a80f3a",
   "outputs": [
    {
     "name": "stdout",
     "output_type": "stream",
     "text": [
      "Hello, Python!\n",
      "Hello, Java....!\n",
      "Hello, Java....!\n"
     ]
    }
   ],
   "execution_count": 14
  },
  {
   "metadata": {
    "ExecuteTime": {
     "end_time": "2025-03-30T02:15:40.457762Z",
     "start_time": "2025-03-30T02:15:40.453942Z"
    }
   },
   "cell_type": "code",
   "source": [
    "def operate(command: str):\n",
    "    match command:\n",
    "        case \"move F\":\n",
    "            return \"Moving forward\"\n",
    "        case \"move B\":\n",
    "            return \"Moving backward\"\n",
    "        case \"move L\":\n",
    "            return \"Turning left\"\n",
    "        case \"move R\":\n",
    "            return \"Turning right\"\n",
    "        case _:\n",
    "            return \"Invalid command\"\n"
   ],
   "id": "3042324fbabecb5f",
   "outputs": [],
   "execution_count": 41
  },
  {
   "metadata": {
    "ExecuteTime": {
     "end_time": "2025-03-30T02:20:14.192534Z",
     "start_time": "2025-03-30T02:20:14.188641Z"
    }
   },
   "cell_type": "code",
   "source": [
    "directions = {\n",
    "    \"F\": \"Moving forward\",\n",
    "    \"B\": \"Moving backward\",\n",
    "    \"L\": \"Turning left\",\n",
    "    \"R\": \"Turning right\"\n",
    "}"
   ],
   "id": "686a85de6e6af53f",
   "outputs": [],
   "execution_count": 61
  },
  {
   "metadata": {},
   "cell_type": "markdown",
   "source": "",
   "id": "7bfbf436168d4f51"
  },
  {
   "metadata": {
    "ExecuteTime": {
     "end_time": "2025-03-30T02:20:15.290131Z",
     "start_time": "2025-03-30T02:20:15.284054Z"
    }
   },
   "cell_type": "code",
   "source": [
    "[\n",
    "    operate(\"move F\"),\n",
    "    operate(\"move B\"),\n",
    "    operate(\"move L\"),\n",
    "    operate(\"move R\"),\n",
    "]"
   ],
   "id": "d8134e1009217af7",
   "outputs": [
    {
     "data": {
      "text/plain": [
       "['Invalid command', 'Invalid command', 'Invalid command', 'Invalid command']"
      ]
     },
     "execution_count": 62,
     "metadata": {},
     "output_type": "execute_result"
    }
   ],
   "execution_count": 62
  },
  {
   "metadata": {
    "ExecuteTime": {
     "end_time": "2025-03-30T02:41:45.170654Z",
     "start_time": "2025-03-30T02:41:45.165419Z"
    }
   },
   "cell_type": "code",
   "source": [
    "def operate2(command: str):\n",
    "    match command.split():\n",
    "        case [\"move\", (\"F\" | \"B\" | \"L\" | \"R\") as direction] :\n",
    "            return f\"Moving {direction}\"\n",
    "        case _:\n",
    "            return \"Invalid command\""
   ],
   "id": "928632d2611a50e9",
   "outputs": [],
   "execution_count": 161
  }
 ],
 "metadata": {
  "kernelspec": {
   "display_name": "Python 3",
   "language": "python",
   "name": "python3"
  },
  "language_info": {
   "codemirror_mode": {
    "name": "ipython",
    "version": 2
   },
   "file_extension": ".py",
   "mimetype": "text/x-python",
   "name": "python",
   "nbconvert_exporter": "python",
   "pygments_lexer": "ipython2",
   "version": "2.7.6"
  }
 },
 "nbformat": 4,
 "nbformat_minor": 5
}
