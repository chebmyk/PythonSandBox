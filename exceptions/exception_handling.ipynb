{
 "cells": [
  {
   "cell_type": "code",
   "execution_count": null,
   "id": "initial_id",
   "metadata": {
    "collapsed": true
   },
   "outputs": [],
   "source": [
    ""
   ]
  },
  {
   "metadata": {},
   "cell_type": "markdown",
   "source": "Exception propagation",
   "id": "941a0f71be4d53ca"
  },
  {
   "metadata": {
    "ExecuteTime": {
     "end_time": "2025-03-29T23:47:29.698612Z",
     "start_time": "2025-03-29T23:47:29.640708Z"
    }
   },
   "cell_type": "code",
   "source": [
    "try:\n",
    "    raise ValueError(\"Level1\")\n",
    "except ValueError as e:\n",
    "    print(f\"Caught an exception: {e}\")\n",
    "    try:\n",
    "        raise TypeError(\"Level2\")\n",
    "    except TypeError as e2:\n",
    "        print(f\"Caught a nested exception: {e2}\")\n",
    "        # You can choose to propagate the original exception or handle it\n",
    "        raise KeyError(\"Level3\")   # This will propagate the original exception\n",
    "\n",
    "finally:\n",
    "    print(\"Finally block executed\")  # This will always execute regardless of exceptions"
   ],
   "id": "ec8feb6e9342992c",
   "outputs": [
    {
     "name": "stdout",
     "output_type": "stream",
     "text": [
      "Caught an exception: Level1\n",
      "Caught a nested exception: Level2\n"
     ]
    },
    {
     "ename": "KeyError",
     "evalue": "'Level3'",
     "output_type": "error",
     "traceback": [
      "\u001B[31m---------------------------------------------------------------------------\u001B[39m",
      "\u001B[31mValueError\u001B[39m                                Traceback (most recent call last)",
      "\u001B[36mCell\u001B[39m\u001B[36m \u001B[39m\u001B[32mIn[5]\u001B[39m\u001B[32m, line 2\u001B[39m\n\u001B[32m      1\u001B[39m \u001B[38;5;28;01mtry\u001B[39;00m:\n\u001B[32m----> \u001B[39m\u001B[32m2\u001B[39m     \u001B[38;5;28;01mraise\u001B[39;00m \u001B[38;5;167;01mValueError\u001B[39;00m(\u001B[33m\"\u001B[39m\u001B[33mLevel1\u001B[39m\u001B[33m\"\u001B[39m)\n\u001B[32m      3\u001B[39m \u001B[38;5;28;01mexcept\u001B[39;00m \u001B[38;5;167;01mValueError\u001B[39;00m \u001B[38;5;28;01mas\u001B[39;00m e:\n",
      "\u001B[31mValueError\u001B[39m: Level1",
      "\nDuring handling of the above exception, another exception occurred:\n",
      "\u001B[31mTypeError\u001B[39m                                 Traceback (most recent call last)",
      "\u001B[36mCell\u001B[39m\u001B[36m \u001B[39m\u001B[32mIn[5]\u001B[39m\u001B[32m, line 6\u001B[39m\n\u001B[32m      5\u001B[39m \u001B[38;5;28;01mtry\u001B[39;00m:\n\u001B[32m----> \u001B[39m\u001B[32m6\u001B[39m     \u001B[38;5;28;01mraise\u001B[39;00m \u001B[38;5;167;01mTypeError\u001B[39;00m(\u001B[33m\"\u001B[39m\u001B[33mLevel2\u001B[39m\u001B[33m\"\u001B[39m)\n\u001B[32m      7\u001B[39m \u001B[38;5;28;01mexcept\u001B[39;00m \u001B[38;5;167;01mTypeError\u001B[39;00m \u001B[38;5;28;01mas\u001B[39;00m e2:\n",
      "\u001B[31mTypeError\u001B[39m: Level2",
      "\nDuring handling of the above exception, another exception occurred:\n",
      "\u001B[31mKeyError\u001B[39m                                  Traceback (most recent call last)",
      "\u001B[36mCell\u001B[39m\u001B[36m \u001B[39m\u001B[32mIn[5]\u001B[39m\u001B[32m, line 10\u001B[39m\n\u001B[32m      8\u001B[39m \u001B[38;5;28mprint\u001B[39m(\u001B[33mf\u001B[39m\u001B[33m\"\u001B[39m\u001B[33mCaught a nested exception: \u001B[39m\u001B[38;5;132;01m{\u001B[39;00me2\u001B[38;5;132;01m}\u001B[39;00m\u001B[33m\"\u001B[39m)\n\u001B[32m      9\u001B[39m \u001B[38;5;66;03m# You can choose to propagate the original exception or handle it\u001B[39;00m\n\u001B[32m---> \u001B[39m\u001B[32m10\u001B[39m \u001B[38;5;28;01mraise\u001B[39;00m \u001B[38;5;167;01mKeyError\u001B[39;00m(\u001B[33m\"\u001B[39m\u001B[33mLevel3\u001B[39m\u001B[33m\"\u001B[39m)   \u001B[38;5;66;03m# This will propagate the original exception\u001B[39;00m\n",
      "\u001B[31mKeyError\u001B[39m: 'Level3'"
     ]
    }
   ],
   "execution_count": 5
  },
  {
   "metadata": {},
   "cell_type": "markdown",
   "source": [
    "Caught an exception: Level1\n",
    "Caught a nested exception: Level2\n",
    "\n",
    "---------------------------------------------------------------------------\n",
    "ValueError                                Traceback (most recent call last)\n",
    "Cell In[5], line 2\n",
    "      1 try:\n",
    "----> 2     raise ValueError(\"Level1\")\n",
    "      3 except ValueError as e:\n",
    "\n",
    "ValueError: Level1\n",
    "\n",
    "During handling of the above exception, another exception occurred:\n",
    "\n",
    "TypeError                                 Traceback (most recent call last)\n",
    "Cell In[5], line 6\n",
    "      5 try:\n",
    "----> 6     raise TypeError(\"Level2\")\n",
    "      7 except TypeError as e2:\n",
    "\n",
    "TypeError: Level2\n",
    "\n",
    "During handling of the above exception, another exception occurred:\n",
    "\n",
    "KeyError                                  Traceback (most recent call last)\n",
    "Cell In[5], line 10\n",
    "      8 print(f\"Caught a nested exception: {e2}\")\n",
    "      9 # You can choose to propagate the original exception or handle it\n",
    "---> 10 raise KeyError(\"Level3\")   # This will propagate the original exception\n",
    "\n",
    "KeyError: 'Level3'"
   ],
   "id": "2e665db16dd1f15b"
  },
  {
   "metadata": {},
   "cell_type": "markdown",
   "source": "============================================================",
   "id": "79b17a908de98ff7"
  },
  {
   "metadata": {},
   "cell_type": "markdown",
   "source": "Stop Propagation",
   "id": "2e07192fb39048ee"
  },
  {
   "metadata": {
    "ExecuteTime": {
     "end_time": "2025-03-29T23:47:57.880963Z",
     "start_time": "2025-03-29T23:47:57.853430Z"
    }
   },
   "cell_type": "code",
   "source": [
    "try:\n",
    "    raise ValueError(\"Level1\")\n",
    "except ValueError as e:\n",
    "    print(f\"Caught an exception: {e}\")\n",
    "    try:\n",
    "        raise TypeError(\"Level2\")\n",
    "    except TypeError as e2:\n",
    "        print(f\"Caught a nested exception: {e2}\")\n",
    "        # You can choose to propagate the original exception or handle it\n",
    "        raise KeyError(\"Level3\") from None"
   ],
   "id": "8c791e36f55f47e4",
   "outputs": [
    {
     "name": "stdout",
     "output_type": "stream",
     "text": [
      "Caught an exception: Level1\n",
      "Caught a nested exception: Level2\n"
     ]
    },
    {
     "ename": "KeyError",
     "evalue": "'Level3'",
     "output_type": "error",
     "traceback": [
      "\u001B[31m---------------------------------------------------------------------------\u001B[39m",
      "\u001B[31mKeyError\u001B[39m                                  Traceback (most recent call last)",
      "\u001B[36mCell\u001B[39m\u001B[36m \u001B[39m\u001B[32mIn[6]\u001B[39m\u001B[32m, line 10\u001B[39m\n\u001B[32m      8\u001B[39m \u001B[38;5;28mprint\u001B[39m(\u001B[33mf\u001B[39m\u001B[33m\"\u001B[39m\u001B[33mCaught a nested exception: \u001B[39m\u001B[38;5;132;01m{\u001B[39;00me2\u001B[38;5;132;01m}\u001B[39;00m\u001B[33m\"\u001B[39m)\n\u001B[32m      9\u001B[39m \u001B[38;5;66;03m# You can choose to propagate the original exception or handle it\u001B[39;00m\n\u001B[32m---> \u001B[39m\u001B[32m10\u001B[39m \u001B[38;5;28;01mraise\u001B[39;00m \u001B[38;5;167;01mKeyError\u001B[39;00m(\u001B[33m\"\u001B[39m\u001B[33mLevel3\u001B[39m\u001B[33m\"\u001B[39m) \u001B[38;5;28;01mfrom\u001B[39;00m\u001B[38;5;250m \u001B[39m\u001B[38;5;28;01mNone\u001B[39;00m  \u001B[38;5;66;03m# This will propagate the original exception\u001B[39;00m\n",
      "\u001B[31mKeyError\u001B[39m: 'Level3'"
     ]
    }
   ],
   "execution_count": 6
  },
  {
   "metadata": {},
   "cell_type": "markdown",
   "source": [
    "Caught an exception: Level1\n",
    "Caught a nested exception: Level2\n",
    "\n",
    "---------------------------------------------------------------------------\n",
    "KeyError                                  Traceback (most recent call last)\n",
    "Cell In[6], line 10\n",
    "      8 print(f\"Caught a nested exception: {e2}\")\n",
    "      9 # You can choose to propagate the original exception or handle it\n",
    "---> 10 raise KeyError(\"Level3\") from None  # This will propagate the original exception\n",
    "\n",
    "KeyError: 'Level3'"
   ],
   "id": "b094e61921326404"
  },
  {
   "metadata": {},
   "cell_type": "markdown",
   "source": "Ex eption handling",
   "id": "85388f63843cde6c"
  },
  {
   "metadata": {
    "ExecuteTime": {
     "end_time": "2025-03-29T23:54:36.906054Z",
     "start_time": "2025-03-29T23:54:36.898463Z"
    }
   },
   "cell_type": "code",
   "source": [
    "try:\n",
    "    raise ValueError(\"Level1\")\n",
    "except ValueError as e:\n",
    "    print(f\"Caught an exception: {e}\")\n",
    "else:\n",
    "    print(\"No exceptions were raised, executing else block.\")\n",
    "finally:\n",
    "    print(\"Finally block executed\")  # This will always execute regardless of exceptions\n"
   ],
   "id": "b8674b9c0fd7d969",
   "outputs": [
    {
     "name": "stdout",
     "output_type": "stream",
     "text": [
      "Caught an exception: Level1\n",
      "Finally block executed\n"
     ]
    }
   ],
   "execution_count": 11
  },
  {
   "metadata": {
    "ExecuteTime": {
     "end_time": "2025-03-29T23:54:55.877953Z",
     "start_time": "2025-03-29T23:54:55.871276Z"
    }
   },
   "cell_type": "code",
   "source": [
    "try:\n",
    "    print(\"Trying to execute some code...\")\n",
    "except ValueError as e:\n",
    "    print(f\"Caught an exception: {e}\")\n",
    "else:\n",
    "    print(\"No exceptions were raised, executing else block.\")\n",
    "finally:\n",
    "    print(\"Finally block executed\")  # This will always execute regardless of exceptions"
   ],
   "id": "24038f3367913aa7",
   "outputs": [
    {
     "name": "stdout",
     "output_type": "stream",
     "text": [
      "Trying to execute some code...\n",
      "No exceptions were raised, executing else block.\n",
      "Finally block executed\n"
     ]
    }
   ],
   "execution_count": 12
  }
 ],
 "metadata": {
  "kernelspec": {
   "display_name": "Python 3",
   "language": "python",
   "name": "python3"
  },
  "language_info": {
   "codemirror_mode": {
    "name": "ipython",
    "version": 2
   },
   "file_extension": ".py",
   "mimetype": "text/x-python",
   "name": "python",
   "nbconvert_exporter": "python",
   "pygments_lexer": "ipython2",
   "version": "2.7.6"
  }
 },
 "nbformat": 4,
 "nbformat_minor": 5
}
