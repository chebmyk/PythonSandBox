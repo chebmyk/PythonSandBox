{
 "cells": [
  {
   "cell_type": "markdown",
   "metadata": {},
   "source": [
    "### Project 6 - Exceptions"
   ]
  },
  {
   "cell_type": "markdown",
   "metadata": {},
   "source": [
    "Suppose we have a Widget online sales application and we are writing the backend for it. We want a base `WidgetException` class that we will use as the base class for all our custom exceptions we raise from our Widget application."
   ]
  },
  {
   "cell_type": "markdown",
   "metadata": {},
   "source": [
    "Furthermore we have determined that we will need the following categories of exceptions:"
   ]
  },
  {
   "cell_type": "markdown",
   "metadata": {},
   "source": [
    "```\n",
    "1. Supplier exceptions\n",
    "    a. Not manufactured anymore\n",
    "    b. Production delayed\n",
    "    c. Shipping delayed\n",
    "    \n",
    "2. Checkout exceptions\n",
    "    a. Inventory type exceptions\n",
    "        - out of stock\n",
    "    b. Pricing exceptions\n",
    "        - invalid coupon code\n",
    "        - cannot stack coupons\n",
    "```"
   ]
  },
  {
   "cell_type": "markdown",
   "metadata": {},
   "source": [
    "Write an exception class hierarchy to capture this. In addition, we would like to implement the following functionality:\n",
    "* implement separate internal error message and user error message\n",
    "* implement an http status code associated to each exception type (keep it simple, use a 500 (server error) error for everything except invalid coupon code, and cannot stack coupons, these can be 400 (bad request)\n",
    "* implement a logging function that can be called to log the exception details, time it occurred, etc.\n",
    "* implement a function that can be called to produce a json string containing the exception details you want to display to your user (include http status code (e.g. 400), the user error message, etc)"
   ]
  },
  {
   "cell_type": "markdown",
   "metadata": {},
   "source": [
    "##### Bonus"
   ]
  },
  {
   "cell_type": "markdown",
   "metadata": {},
   "source": [
    "Log the traceback too - you'll have to do a bit of research for that! \n",
    "\n",
    "I'm going to use the `TracebackException` class in the `traceback` module:\n",
    "\n",
    "https://docs.python.org/3/library/traceback.html#tracebackexception-objects"
   ]
  },
  {
   "cell_type": "markdown",
   "metadata": {},
   "source": [
    "In particular, look at the class method `from_exception` (and remember that inside your exception class, the exception will be `self`!) and the `format` instance method. That method returns a generator, so you'll need to `list` it to print out everything in that traceback."
   ]
  },
  {
   "cell_type": "markdown",
   "metadata": {},
   "source": [
    "Good luck!"
   ]
  },
  {
   "cell_type": "code",
   "metadata": {
    "ExecuteTime": {
     "end_time": "2025-03-30T01:00:37.010442Z",
     "start_time": "2025-03-30T01:00:37.005930Z"
    }
   },
   "source": [
    "import json\n",
    "from datetime import datetime\n",
    "from http import HTTPStatus\n",
    "import traceback\n",
    "\n",
    "import executing.executing"
   ],
   "outputs": [],
   "execution_count": 33
  },
  {
   "metadata": {
    "ExecuteTime": {
     "end_time": "2025-03-30T01:00:37.027575Z",
     "start_time": "2025-03-30T01:00:37.021472Z"
    }
   },
   "cell_type": "code",
   "source": [
    "class WidgetException(Exception):\n",
    "    msg = \"An error occurred in the Widget application.\"\n",
    "    http_status_code = HTTPStatus.INTERNAL_SERVER_ERROR\n",
    "\n",
    "    def __init__(self, *args, custom_msg=None):\n",
    "        super().__init__(args)\n",
    "\n",
    "        if args:\n",
    "            self.msg =args[0]\n",
    "        self.custom_msg = custom_msg if custom_msg else self.msg\n",
    "\n",
    "    @property\n",
    "    def traceback(self):\\\n",
    "        return traceback.TracebackException.from_exception(self).format()\n",
    "\n",
    "    def log(self):\n",
    "        excprtion = {\n",
    "            \"type\": type(self).__name__,\n",
    "            \"message\": self.msg,\n",
    "            \"arguments\": self.args,\n",
    "        }\n",
    "        print(f\"Logging Exception:{datetime.now().isoformat()}: {excprtion}\")\n",
    "\n",
    "    def to_json(self):\n",
    "        response = {\n",
    "            \"http_status_code\": self.http_status_code,\n",
    "            \"user_message\": self.custom_msg,\n",
    "            \"timestamp\": datetime.now().isoformat(),\n",
    "        }\n",
    "        return json.dumps(response)"
   ],
   "outputs": [],
   "execution_count": 34
  },
  {
   "metadata": {
    "ExecuteTime": {
     "end_time": "2025-03-30T01:00:37.045309Z",
     "start_time": "2025-03-30T01:00:37.040546Z"
    }
   },
   "cell_type": "code",
   "source": "ex1 =WidgetException(\"An example of a widget exception\",10)",
   "outputs": [],
   "execution_count": 35
  },
  {
   "metadata": {
    "ExecuteTime": {
     "end_time": "2025-03-30T01:00:37.075893Z",
     "start_time": "2025-03-30T01:00:37.069074Z"
    }
   },
   "cell_type": "code",
   "source": "ex1.log()",
   "outputs": [
    {
     "name": "stdout",
     "output_type": "stream",
     "text": [
      "Logging Exception:2025-03-29T21:00:37.072581: {'type': 'WidgetException', 'message': 'An example of a widget exception', 'arguments': (('An example of a widget exception', 10),)}\n"
     ]
    }
   ],
   "execution_count": 36
  },
  {
   "metadata": {
    "ExecuteTime": {
     "end_time": "2025-03-30T01:00:37.092414Z",
     "start_time": "2025-03-30T01:00:37.084410Z"
    }
   },
   "cell_type": "code",
   "source": [
    "class SupplierException(WidgetException):\n",
    "    msg = \"A supplier error occurred.\"\n",
    "\n",
    "    def __init__(self, *args, custom_msg=None):\n",
    "        super().__init__(*args, custom_msg=custom_msg)\n",
    "\n",
    "class NotManufactoredException(SupplierException):\n",
    "    msg = \"The widget is not manufactured anymore.\"\n",
    "\n",
    "    def __init__(self, *args, custom_msg=None):\n",
    "        super().__init__(*args, custom_msg=custom_msg)\n",
    "\n",
    "class ProductionDelayedException(SupplierException):\n",
    "    msg = \"The widget production is delayed.\"\n",
    "\n",
    "    def __init__(self, *args, custom_msg=None):\n",
    "        super().__init__(*args, custom_msg=custom_msg)\n",
    "\n",
    "class ShippingDelayedException(SupplierException):\n",
    "    msg = \"The widget shipping is delayed.\"\n",
    "\n",
    "    def __init__(self, *args, custom_msg=None):\n",
    "        super().__init__(*args, custom_msg=custom_msg)\n",
    "\n",
    "\n",
    "class CheckoutException(WidgetException):\n",
    "    msg = \"A checkout error occurred.\"\n",
    "\n",
    "    def __init__(self, *args, custom_msg=None):\n",
    "        super().__init__(*args, custom_msg=custom_msg)\n",
    "\n",
    "class InventoryException(CheckoutException):\n",
    "    msg = \"An inventory error occurred.\"\n",
    "\n",
    "    def __init__(self, *args, custom_msg=None):\n",
    "        super().__init__(*args, custom_msg=custom_msg)\n",
    "\n",
    "class OutOfStockException(InventoryException):\n",
    "    msg = \"The widget is out of stock.\"\n",
    "\n",
    "    def __init__(self, *args, custom_msg=None):\n",
    "        super().__init__(*args, custom_msg=custom_msg)\n",
    "\n",
    "\n",
    "class PricingException(CheckoutException):\n",
    "    msg = \"A pricing error occurred.\"\n",
    "\n",
    "    def __init__(self, *args, custom_msg=None):\n",
    "        super().__init__(*args, custom_msg=custom_msg)\n",
    "\n",
    "class InvalidCouponException(PricingException):\n",
    "    msg = \"The coupon code is invalid.\"\n",
    "\n",
    "    def __init__(self, *args, custom_msg=None):\n",
    "        super().__init__(*args, custom_msg=custom_msg)\n",
    "\n",
    "class CannotStackCouponsException(PricingException):\n",
    "    msg = \"Coupons cannot be stacked.\"\n",
    "\n",
    "    def __init__(self, *args, custom_msg=None):\n",
    "        super().__init__(*args, custom_msg=custom_msg)"
   ],
   "outputs": [],
   "execution_count": 37
  },
  {
   "metadata": {
    "ExecuteTime": {
     "end_time": "2025-03-30T01:00:37.133219Z",
     "start_time": "2025-03-30T01:00:37.105964Z"
    }
   },
   "cell_type": "code",
   "source": [
    "try:\n",
    "    raise CannotStackCouponsException(\"Cannot stack coupons error\")\n",
    "except CannotStackCouponsException as e:\n",
    "    e.log()\n",
    "    print(e.to_json())\n",
    "    raise"
   ],
   "outputs": [
    {
     "name": "stdout",
     "output_type": "stream",
     "text": [
      "Logging Exception:2025-03-29T21:00:37.109159: {'type': 'CannotStackCouponsException', 'message': 'Cannot stack coupons error', 'arguments': (('Cannot stack coupons error',),)}\n",
      "{\"http_status_code\": 500, \"user_message\": \"Cannot stack coupons error\", \"timestamp\": \"2025-03-29T21:00:37.109159\"}\n"
     ]
    },
    {
     "ename": "CannotStackCouponsException",
     "evalue": "('Cannot stack coupons error',)",
     "output_type": "error",
     "traceback": [
      "\u001B[31m---------------------------------------------------------------------------\u001B[39m",
      "\u001B[31mCannotStackCouponsException\u001B[39m               Traceback (most recent call last)",
      "\u001B[36mCell\u001B[39m\u001B[36m \u001B[39m\u001B[32mIn[38]\u001B[39m\u001B[32m, line 2\u001B[39m\n\u001B[32m      1\u001B[39m \u001B[38;5;28;01mtry\u001B[39;00m:\n\u001B[32m----> \u001B[39m\u001B[32m2\u001B[39m     \u001B[38;5;28;01mraise\u001B[39;00m CannotStackCouponsException(\u001B[33m\"\u001B[39m\u001B[33mCannot stack coupons error\u001B[39m\u001B[33m\"\u001B[39m)\n\u001B[32m      3\u001B[39m \u001B[38;5;28;01mexcept\u001B[39;00m CannotStackCouponsException \u001B[38;5;28;01mas\u001B[39;00m e:\n\u001B[32m      4\u001B[39m     e.log()\n",
      "\u001B[31mCannotStackCouponsException\u001B[39m: ('Cannot stack coupons error',)"
     ]
    }
   ],
   "execution_count": 38
  },
  {
   "metadata": {
    "ExecuteTime": {
     "end_time": "2025-03-30T01:00:37.136231300Z",
     "start_time": "2025-03-30T00:57:31.907358Z"
    }
   },
   "cell_type": "code",
   "source": "",
   "outputs": [],
   "execution_count": 29
  },
  {
   "metadata": {
    "ExecuteTime": {
     "end_time": "2025-03-30T01:00:37.138228400Z",
     "start_time": "2025-03-30T00:58:35.370523Z"
    }
   },
   "cell_type": "code",
   "source": [
    "try:\n",
    "    raise ValueError\n",
    "except ValueError as e:\n",
    "    try:\n",
    "        raise WidgetException(\"An example of a widget exception\")\n",
    "    except WidgetException as we:\n",
    "        trace= traceback.TracebackException.from_exception(we)\n",
    "        print(''.join(trace.format()))"
   ],
   "outputs": [
    {
     "name": "stdout",
     "output_type": "stream",
     "text": [
      "Traceback (most recent call last):\n",
      "  File \"C:\\Users\\wb560607\\AppData\\Local\\Temp\\ipykernel_11784\\1800236700.py\", line 2, in <module>\n",
      "    raise ValueError\n",
      "ValueError\n",
      "\n",
      "During handling of the above exception, another exception occurred:\n",
      "\n",
      "Traceback (most recent call last):\n",
      "  File \"C:\\Users\\wb560607\\AppData\\Local\\Temp\\ipykernel_11784\\1800236700.py\", line 5, in <module>\n",
      "    raise WidgetException(\"An example of a widget exception\")\n",
      "WidgetException: ('An example of a widget exception',)\n",
      "\n"
     ]
    }
   ],
   "execution_count": 32
  },
  {
   "metadata": {
    "ExecuteTime": {
     "end_time": "2025-03-30T01:01:44.883335Z",
     "start_time": "2025-03-30T01:01:44.877325Z"
    }
   },
   "cell_type": "code",
   "source": [
    "try:\n",
    "    raise ValueError\n",
    "except ValueError as e:\n",
    "    try:\n",
    "        raise WidgetException(\"An example of a widget exception\")\n",
    "    except WidgetException as we:\n",
    "        trace= traceback.TracebackException.from_exception(we)\n",
    "        print(''.join(we.traceback))"
   ],
   "outputs": [
    {
     "name": "stdout",
     "output_type": "stream",
     "text": [
      "Traceback (most recent call last):\n",
      "  File \"C:\\Users\\wb560607\\AppData\\Local\\Temp\\ipykernel_11784\\4007854433.py\", line 2, in <module>\n",
      "    raise ValueError\n",
      "ValueError\n",
      "\n",
      "During handling of the above exception, another exception occurred:\n",
      "\n",
      "Traceback (most recent call last):\n",
      "  File \"C:\\Users\\wb560607\\AppData\\Local\\Temp\\ipykernel_11784\\4007854433.py\", line 5, in <module>\n",
      "    raise WidgetException(\"An example of a widget exception\")\n",
      "WidgetException: ('An example of a widget exception',)\n",
      "\n"
     ]
    }
   ],
   "execution_count": 40
  }
 ],
 "metadata": {
  "kernelspec": {
   "display_name": "Python 3",
   "language": "python",
   "name": "python3"
  },
  "language_info": {
   "codemirror_mode": {
    "name": "ipython",
    "version": 3
   },
   "file_extension": ".py",
   "mimetype": "text/x-python",
   "name": "python",
   "nbconvert_exporter": "python",
   "pygments_lexer": "ipython3",
   "version": "3.6.7"
  }
 },
 "nbformat": 4,
 "nbformat_minor": 2
}
