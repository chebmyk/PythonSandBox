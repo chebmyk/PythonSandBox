{
 "cells": [
  {
   "cell_type": "code",
   "id": "initial_id",
   "metadata": {
    "collapsed": true,
    "ExecuteTime": {
     "end_time": "2025-03-29T23:59:56.788088Z",
     "start_time": "2025-03-29T23:59:56.770195Z"
    }
   },
   "source": [
    "from http import HTTPStatus\n",
    "\n",
    "\n",
    "class TimeoutException(Exception):\n",
    "    \"\"\"\n",
    "    Custom exception to indicate a timeout.\n",
    "\n",
    "    Attributes:\n",
    "        message (str): Explanation of the exception.\n",
    "    \"\"\"\n",
    "    def __init__(self, message=\"The operation timed out.\"):\n",
    "        self.message = message\n",
    "        super().__init__(self.message)"
   ],
   "outputs": [],
   "execution_count": 1
  },
  {
   "metadata": {
    "ExecuteTime": {
     "end_time": "2025-03-30T00:01:40.401638Z",
     "start_time": "2025-03-30T00:01:40.394638Z"
    }
   },
   "cell_type": "code",
   "source": [
    "import sys\n",
    "\n",
    "try:\n",
    "    raise TimeoutException(\"The server did not respond in time.\")\n",
    "except TimeoutException as e:\n",
    "\n",
    "    ex_type, ex, tb =sys.exc_info()\n",
    "    print(ex_type, ex, tb)\n",
    "    print(f\"Caught a TimeoutException: {e.message}\")"
   ],
   "id": "4bd0f576780006ce",
   "outputs": [
    {
     "name": "stdout",
     "output_type": "stream",
     "text": [
      "<class '__main__.TimeoutException'> The server did not respond in time. <traceback object at 0x0000017340CF2B00>\n",
      "Caught a TimeoutException: The server did not respond in time.\n"
     ]
    }
   ],
   "execution_count": 3
  },
  {
   "metadata": {
    "ExecuteTime": {
     "end_time": "2025-03-30T00:04:22.689621Z",
     "start_time": "2025-03-30T00:04:22.683055Z"
    }
   },
   "cell_type": "code",
   "source": [
    "class ReadOnlyError(AttributeError):\n",
    "    \"\"\"Custom exception\"\"\"\n"
   ],
   "id": "80aaea4e17c14838",
   "outputs": [],
   "execution_count": 11
  },
  {
   "metadata": {
    "ExecuteTime": {
     "end_time": "2025-03-30T00:04:35.147908Z",
     "start_time": "2025-03-30T00:04:35.139959Z"
    }
   },
   "cell_type": "code",
   "source": [
    "try:\n",
    "    raise ReadOnlyError(\"This attribute is read-only.\")\n",
    "except ReadOnlyError as e:\n",
    "    print(repr(e))\n"
   ],
   "id": "336eb34d4e0f9d63",
   "outputs": [
    {
     "name": "stdout",
     "output_type": "stream",
     "text": [
      "ReadOnlyError('This attribute is read-only.')\n"
     ]
    }
   ],
   "execution_count": 14
  },
  {
   "metadata": {
    "ExecuteTime": {
     "end_time": "2025-03-30T00:04:52.231274Z",
     "start_time": "2025-03-30T00:04:52.224721Z"
    }
   },
   "cell_type": "code",
   "source": [
    "try:\n",
    "    raise ReadOnlyError(\"This attribute is read-only.\")\n",
    "except BaseException as e:\n",
    "    print(repr(e))"
   ],
   "id": "4802c63755d2ebc8",
   "outputs": [
    {
     "name": "stdout",
     "output_type": "stream",
     "text": [
      "ReadOnlyError('This attribute is read-only.')\n"
     ]
    }
   ],
   "execution_count": 16
  },
  {
   "metadata": {
    "ExecuteTime": {
     "end_time": "2025-03-30T00:15:41.605460Z",
     "start_time": "2025-03-30T00:15:41.600460Z"
    }
   },
   "cell_type": "code",
   "source": [
    "from http import HTTPStatus\n",
    "\n",
    "class APIException(Exception):\n",
    "    http_status = HTTPStatus.INTERNAL_SERVER_ERROR\n",
    "    msg = \"An error occurred in the API.\"\n",
    "    def __init__(self, *args, message=None):\n",
    "        if args:\n",
    "            # If a message is provided in args, use it\n",
    "            self.msg = args[0]\n",
    "\n",
    "        if message is not None:\n",
    "            self.msg = message\n",
    "        super().__init__(self.msg)"
   ],
   "id": "19a077d00e7ad2d1",
   "outputs": [],
   "execution_count": 19
  },
  {
   "metadata": {
    "ExecuteTime": {
     "end_time": "2025-03-30T00:15:43.150205Z",
     "start_time": "2025-03-30T00:15:43.142569Z"
    }
   },
   "cell_type": "code",
   "source": [
    "try:\n",
    "    raise APIException(\"Custom error message for the API.\",10,10)\n",
    "except APIException as e:\n",
    "    print(f\"Caught an APIException: {e.msg}\")\n",
    "    print(f\"HTTP Status Code: {e.http_status}\")"
   ],
   "id": "1596d77b9e33878b",
   "outputs": [
    {
     "name": "stdout",
     "output_type": "stream",
     "text": [
      "Caught an APIException: Custom error message for the API.\n",
      "HTTP Status Code: 500\n"
     ]
    }
   ],
   "execution_count": 20
  },
  {
   "metadata": {
    "ExecuteTime": {
     "end_time": "2025-03-30T00:22:19.897111Z",
     "start_time": "2025-03-30T00:22:19.888171Z"
    }
   },
   "cell_type": "code",
   "source": [
    "class AppException(Exception):\n",
    "    \"\"\"Generic application exception.\"\"\"\n",
    "\n",
    "class StatusCodeError(AppException, ValueError):\n",
    "    \"\"\"Exception for handling specific status code errors.\"\"\"\n",
    "\n",
    "    def __init__(self, status_code, message=\"An error occurred with the status code.\"):\n",
    "        self.status_code = status_code\n",
    "        self.message = message\n",
    "        super().__init__(self.message)"
   ],
   "id": "1a98a4a950180644",
   "outputs": [],
   "execution_count": 21
  },
  {
   "metadata": {
    "ExecuteTime": {
     "end_time": "2025-03-30T00:22:48.155244Z",
     "start_time": "2025-03-30T00:22:48.151764Z"
    }
   },
   "cell_type": "code",
   "source": "ex = StatusCodeError(\"404\", \"Not Found\")",
   "id": "3b73340c6aed408e",
   "outputs": [],
   "execution_count": 23
  },
  {
   "metadata": {
    "ExecuteTime": {
     "end_time": "2025-03-30T00:23:06.500994Z",
     "start_time": "2025-03-30T00:23:06.487998Z"
    }
   },
   "cell_type": "code",
   "source": "isinstance(ex, AppException)",
   "id": "757a9a7b2af26f62",
   "outputs": [
    {
     "data": {
      "text/plain": [
       "True"
      ]
     },
     "execution_count": 24,
     "metadata": {},
     "output_type": "execute_result"
    }
   ],
   "execution_count": 24
  },
  {
   "metadata": {
    "ExecuteTime": {
     "end_time": "2025-03-30T00:23:19.106286Z",
     "start_time": "2025-03-30T00:23:19.098335Z"
    }
   },
   "cell_type": "code",
   "source": "isinstance(ex, ValueError)",
   "id": "73e45edf27a14dfc",
   "outputs": [
    {
     "data": {
      "text/plain": [
       "True"
      ]
     },
     "execution_count": 25,
     "metadata": {},
     "output_type": "execute_result"
    }
   ],
   "execution_count": 25
  },
  {
   "metadata": {
    "ExecuteTime": {
     "end_time": "2025-03-30T00:23:48.856982Z",
     "start_time": "2025-03-30T00:23:48.850982Z"
    }
   },
   "cell_type": "code",
   "source": [
    "try:\n",
    "    raise StatusCodeError(404, \"Not Found\")\n",
    "except StatusCodeError as e:\n",
    "    print(f\"Caught a StatusCodeError: {e.message}\")\n",
    "    print(f\"Status Code: {e.status_code}\")"
   ],
   "id": "42524766ce94aa38",
   "outputs": [
    {
     "name": "stdout",
     "output_type": "stream",
     "text": [
      "Caught a StatusCodeError: Not Found\n",
      "Status Code: 404\n"
     ]
    }
   ],
   "execution_count": 26
  },
  {
   "metadata": {},
   "cell_type": "code",
   "outputs": [],
   "execution_count": null,
   "source": "",
   "id": "b3b20e8d61dbf650"
  },
  {
   "metadata": {
    "ExecuteTime": {
     "end_time": "2025-03-30T00:24:00.026276Z",
     "start_time": "2025-03-30T00:24:00.019771Z"
    }
   },
   "cell_type": "code",
   "source": [
    "try:\n",
    "    raise StatusCodeError(404, \"Not Found\")\n",
    "except ValueError as e:\n",
    "    print(f\"Caught a StatusCodeError: {e.message}\")\n",
    "    print(f\"Status Code: {e.status_code}\")"
   ],
   "id": "5c13d40d2ac5a0cd",
   "outputs": [
    {
     "name": "stdout",
     "output_type": "stream",
     "text": [
      "Caught a StatusCodeError: Not Found\n",
      "Status Code: 404\n"
     ]
    }
   ],
   "execution_count": 27
  }
 ],
 "metadata": {
  "kernelspec": {
   "display_name": "Python 3",
   "language": "python",
   "name": "python3"
  },
  "language_info": {
   "codemirror_mode": {
    "name": "ipython",
    "version": 2
   },
   "file_extension": ".py",
   "mimetype": "text/x-python",
   "name": "python",
   "nbconvert_exporter": "python",
   "pygments_lexer": "ipython2",
   "version": "2.7.6"
  }
 },
 "nbformat": 4,
 "nbformat_minor": 5
}
