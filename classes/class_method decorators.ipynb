{
 "cells": [
  {
   "cell_type": "code",
   "id": "initial_id",
   "metadata": {
    "collapsed": true,
    "ExecuteTime": {
     "end_time": "2025-03-14T14:45:59.480543Z",
     "start_time": "2025-03-14T14:45:59.474156Z"
    }
   },
   "source": [
    "class MyClass:\n",
    "\n",
    "    def __init__(self, version):\n",
    "        self._version = version\n",
    "\n",
    "    @property\n",
    "    def version(self):\n",
    "        print('call getter')\n",
    "        return self._version\n",
    "\n",
    "    @version.setter\n",
    "    def version(self, value):\n",
    "        print('call setter')\n",
    "        self._version = value\n",
    "\n",
    "    @version.deleter\n",
    "    def version(self):\n",
    "        print('call delete attr')\n",
    "        del self._version\n",
    "\n",
    "    def hello():\n",
    "        print('hello')\n",
    "\n",
    "    def instance_hello(self):\n",
    "        print(f'instance hello {self}')\n",
    "\n",
    "    @classmethod\n",
    "    def class_hello(arg):\n",
    "        print(f'class hello {arg}')\n",
    "\n",
    "    @staticmethod\n",
    "    def static_hello(arg):\n",
    "        print(f'static method {arg}')"
   ],
   "outputs": [],
   "execution_count": 7
  },
  {
   "metadata": {
    "ExecuteTime": {
     "end_time": "2025-03-14T14:46:01.900491Z",
     "start_time": "2025-03-14T14:46:01.896120Z"
    }
   },
   "cell_type": "code",
   "source": [
    "#Class method call\n",
    "\n",
    "MyClass.hello()\n",
    "\n"
   ],
   "id": "cca27ef0f0ecbe0d",
   "outputs": [
    {
     "name": "stdout",
     "output_type": "stream",
     "text": [
      "hello\n"
     ]
    }
   ],
   "execution_count": 8
  },
  {
   "metadata": {
    "ExecuteTime": {
     "end_time": "2025-03-14T14:47:16.315025Z",
     "start_time": "2025-03-14T14:47:16.257774Z"
    }
   },
   "cell_type": "code",
   "source": [
    "cls1 = MyClass('1.2')\n",
    "# Method hello() is not bound to an instance\n",
    "cls1.hello()"
   ],
   "id": "fcccd40b2dd0631c",
   "outputs": [
    {
     "ename": "TypeError",
     "evalue": "MyClass.hello() takes 0 positional arguments but 1 was given",
     "output_type": "error",
     "traceback": [
      "\u001B[31m---------------------------------------------------------------------------\u001B[39m",
      "\u001B[31mTypeError\u001B[39m                                 Traceback (most recent call last)",
      "\u001B[36mCell\u001B[39m\u001B[36m \u001B[39m\u001B[32mIn[10]\u001B[39m\u001B[32m, line 3\u001B[39m\n\u001B[32m      1\u001B[39m cls1 = MyClass(\u001B[33m'\u001B[39m\u001B[33m1.2\u001B[39m\u001B[33m'\u001B[39m)\n\u001B[32m----> \u001B[39m\u001B[32m3\u001B[39m \u001B[43mcls1\u001B[49m\u001B[43m.\u001B[49m\u001B[43mhello\u001B[49m\u001B[43m(\u001B[49m\u001B[43m)\u001B[49m\n",
      "\u001B[31mTypeError\u001B[39m: MyClass.hello() takes 0 positional arguments but 1 was given"
     ]
    }
   ],
   "execution_count": 10
  },
  {
   "metadata": {
    "ExecuteTime": {
     "end_time": "2025-03-14T14:47:53.897567Z",
     "start_time": "2025-03-14T14:47:53.893196Z"
    }
   },
   "cell_type": "code",
   "source": "cls1.instance_hello()",
   "id": "815fbb0c03ad4fd4",
   "outputs": [
    {
     "name": "stdout",
     "output_type": "stream",
     "text": [
      "instance hello <__main__.MyClass object at 0x000002136F636ED0>\n"
     ]
    }
   ],
   "execution_count": 11
  },
  {
   "metadata": {
    "ExecuteTime": {
     "end_time": "2025-03-14T14:48:13.732729Z",
     "start_time": "2025-03-14T14:48:13.726818Z"
    }
   },
   "cell_type": "code",
   "source": "cls1.class_hello()",
   "id": "b3d92303759283fc",
   "outputs": [
    {
     "name": "stdout",
     "output_type": "stream",
     "text": [
      "class hello <class '__main__.MyClass'>\n"
     ]
    }
   ],
   "execution_count": 12
  },
  {
   "metadata": {
    "ExecuteTime": {
     "end_time": "2025-03-14T14:48:30.105482Z",
     "start_time": "2025-03-14T14:48:30.101608Z"
    }
   },
   "cell_type": "code",
   "source": "cls1.static_hello(2)",
   "id": "4a939422aa7c3971",
   "outputs": [
    {
     "name": "stdout",
     "output_type": "stream",
     "text": [
      "static method 2\n"
     ]
    }
   ],
   "execution_count": 13
  },
  {
   "metadata": {
    "ExecuteTime": {
     "end_time": "2025-03-14T14:48:59.913946Z",
     "start_time": "2025-03-14T14:48:59.904425Z"
    }
   },
   "cell_type": "code",
   "source": "cls1.static_hello",
   "id": "6300015313b25eee",
   "outputs": [
    {
     "data": {
      "text/plain": [
       "<function __main__.MyClass.static_hello(arg)>"
      ]
     },
     "execution_count": 14,
     "metadata": {},
     "output_type": "execute_result"
    }
   ],
   "execution_count": 14
  },
  {
   "metadata": {},
   "cell_type": "code",
   "outputs": [],
   "execution_count": null,
   "source": "",
   "id": "ae47ec1616c17e94"
  },
  {
   "metadata": {},
   "cell_type": "markdown",
   "source": "==========================================================================================================",
   "id": "40c9aa4f15b7059d"
  },
  {
   "metadata": {
    "ExecuteTime": {
     "end_time": "2025-03-14T15:24:09.921315Z",
     "start_time": "2025-03-14T15:24:09.916322Z"
    }
   },
   "cell_type": "code",
   "source": [
    "# class level property (static variable)\n",
    "\n",
    "from datetime import timezone, timedelta, datetime\n",
    "\n",
    "\n",
    "class Time:\n",
    "\n",
    "    _tz = timezone.utc\n",
    "\n",
    "    @classmethod\n",
    "    def set_timezone(cls, offset, name):\n",
    "        cls._tz = timezone(timedelta(hours=offset), name)\n",
    "\n",
    "    @staticmethod\n",
    "    def utc_time():\n",
    "        return datetime.now(timezone.utc)\n",
    "\n",
    "    @classmethod\n",
    "    def current_time(cls):\n",
    "        return datetime.now(cls._tz)\n"
   ],
   "id": "d389369b032beb72",
   "outputs": [],
   "execution_count": 24
  },
  {
   "metadata": {
    "ExecuteTime": {
     "end_time": "2025-03-14T15:24:11.951108Z",
     "start_time": "2025-03-14T15:24:11.945726Z"
    }
   },
   "cell_type": "code",
   "source": "Time._tz",
   "id": "d90d9492fdc45133",
   "outputs": [
    {
     "data": {
      "text/plain": [
       "datetime.timezone.utc"
      ]
     },
     "execution_count": 25,
     "metadata": {},
     "output_type": "execute_result"
    }
   ],
   "execution_count": 25
  },
  {
   "metadata": {
    "ExecuteTime": {
     "end_time": "2025-03-14T15:24:12.547935Z",
     "start_time": "2025-03-14T15:24:12.541939Z"
    }
   },
   "cell_type": "code",
   "source": [
    "Time.set_timezone(-2,'MST')\n",
    "Time._tz"
   ],
   "id": "1338b125f900cbfa",
   "outputs": [
    {
     "data": {
      "text/plain": [
       "datetime.timezone(datetime.timedelta(days=-1, seconds=79200), 'MST')"
      ]
     },
     "execution_count": 26,
     "metadata": {},
     "output_type": "execute_result"
    }
   ],
   "execution_count": 26
  },
  {
   "metadata": {
    "ExecuteTime": {
     "end_time": "2025-03-14T15:24:12.966294Z",
     "start_time": "2025-03-14T15:24:12.961341Z"
    }
   },
   "cell_type": "code",
   "source": [
    "t1 = Time()\n",
    "t2 = Time()\n",
    "\n",
    "\n",
    "print(t1._tz)\n",
    "print(t2._tz)"
   ],
   "id": "92ed122dd0791c5a",
   "outputs": [
    {
     "name": "stdout",
     "output_type": "stream",
     "text": [
      "MST\n",
      "MST\n"
     ]
    }
   ],
   "execution_count": 27
  },
  {
   "metadata": {
    "ExecuteTime": {
     "end_time": "2025-03-14T15:24:13.404530Z",
     "start_time": "2025-03-14T15:24:13.398899Z"
    }
   },
   "cell_type": "code",
   "source": "Time.set_timezone(-3,'PST')",
   "id": "57c81c345744514d",
   "outputs": [],
   "execution_count": 28
  },
  {
   "metadata": {
    "ExecuteTime": {
     "end_time": "2025-03-14T15:24:13.980878Z",
     "start_time": "2025-03-14T15:24:13.973426Z"
    }
   },
   "cell_type": "code",
   "source": [
    "print(t1._tz)\n",
    "print(t2._tz)"
   ],
   "id": "8ba480c3d4d02829",
   "outputs": [
    {
     "name": "stdout",
     "output_type": "stream",
     "text": [
      "PST\n",
      "PST\n"
     ]
    }
   ],
   "execution_count": 29
  },
  {
   "metadata": {
    "ExecuteTime": {
     "end_time": "2025-03-14T15:24:47.055034Z",
     "start_time": "2025-03-14T15:24:47.049499Z"
    }
   },
   "cell_type": "code",
   "source": "Time.utc_time()",
   "id": "23ddd694fc6b620e",
   "outputs": [
    {
     "data": {
      "text/plain": [
       "datetime.datetime(2025, 3, 14, 15, 24, 47, 51698, tzinfo=datetime.timezone.utc)"
      ]
     },
     "execution_count": 30,
     "metadata": {},
     "output_type": "execute_result"
    }
   ],
   "execution_count": 30
  },
  {
   "metadata": {
    "ExecuteTime": {
     "end_time": "2025-03-14T15:24:48.180931Z",
     "start_time": "2025-03-14T15:24:48.174752Z"
    }
   },
   "cell_type": "code",
   "source": "t1.utc_time()",
   "id": "23f69df405c0a02c",
   "outputs": [
    {
     "data": {
      "text/plain": [
       "datetime.datetime(2025, 3, 14, 15, 24, 48, 177753, tzinfo=datetime.timezone.utc)"
      ]
     },
     "execution_count": 31,
     "metadata": {},
     "output_type": "execute_result"
    }
   ],
   "execution_count": 31
  }
 ],
 "metadata": {
  "kernelspec": {
   "display_name": "Python 3",
   "language": "python",
   "name": "python3"
  },
  "language_info": {
   "codemirror_mode": {
    "name": "ipython",
    "version": 2
   },
   "file_extension": ".py",
   "mimetype": "text/x-python",
   "name": "python",
   "nbconvert_exporter": "python",
   "pygments_lexer": "ipython2",
   "version": "2.7.6"
  }
 },
 "nbformat": 4,
 "nbformat_minor": 5
}
