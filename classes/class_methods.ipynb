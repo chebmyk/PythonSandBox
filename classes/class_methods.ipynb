{
 "cells": [
  {
   "cell_type": "code",
   "id": "initial_id",
   "metadata": {
    "collapsed": true,
    "ExecuteTime": {
     "end_time": "2025-03-12T01:17:48.443069Z",
     "start_time": "2025-03-12T01:17:48.436687Z"
    }
   },
   "source": [
    "class Program:\n",
    "    def do():\n",
    "        print('Do smth')\n"
   ],
   "outputs": [],
   "execution_count": 2
  },
  {
   "metadata": {
    "ExecuteTime": {
     "end_time": "2025-03-12T01:17:50.655079Z",
     "start_time": "2025-03-12T01:17:50.642626Z"
    }
   },
   "cell_type": "code",
   "source": "Program.__dict__",
   "id": "ee8dc1519b2727e6",
   "outputs": [
    {
     "data": {
      "text/plain": [
       "mappingproxy({'__module__': '__main__',\n",
       "              'do': <function __main__.Program.do()>,\n",
       "              '__dict__': <attribute '__dict__' of 'Program' objects>,\n",
       "              '__weakref__': <attribute '__weakref__' of 'Program' objects>,\n",
       "              '__doc__': None})"
      ]
     },
     "execution_count": 3,
     "metadata": {},
     "output_type": "execute_result"
    }
   ],
   "execution_count": 3
  },
  {
   "metadata": {
    "ExecuteTime": {
     "end_time": "2025-03-12T01:19:37.455061Z",
     "start_time": "2025-03-12T01:19:37.449625Z"
    }
   },
   "cell_type": "code",
   "source": "p = Program()",
   "id": "2e06b674b1a5582c",
   "outputs": [],
   "execution_count": 4
  },
  {
   "metadata": {
    "ExecuteTime": {
     "end_time": "2025-03-12T01:19:38.241694Z",
     "start_time": "2025-03-12T01:19:38.235239Z"
    }
   },
   "cell_type": "code",
   "source": "Program.do()",
   "id": "6d80d3045f06de64",
   "outputs": [
    {
     "name": "stdout",
     "output_type": "stream",
     "text": [
      "Do smth\n"
     ]
    }
   ],
   "execution_count": 5
  },
  {
   "metadata": {
    "ExecuteTime": {
     "end_time": "2025-03-12T01:22:16.668042Z",
     "start_time": "2025-03-12T01:22:16.658243Z"
    }
   },
   "cell_type": "code",
   "source": "p.do",
   "id": "1d5860a604516e7d",
   "outputs": [
    {
     "data": {
      "text/plain": [
       "<bound method Program.do of <__main__.Program object at 0x0000022208F5A090>>"
      ]
     },
     "execution_count": 10,
     "metadata": {},
     "output_type": "execute_result"
    }
   ],
   "execution_count": 10
  },
  {
   "metadata": {},
   "cell_type": "markdown",
   "source": "Python try to bind the instance with class definition and pass instance reference as the first parameter.  Program.do(p)",
   "id": "293a02f09161c1d"
  },
  {
   "metadata": {
    "ExecuteTime": {
     "end_time": "2025-03-12T01:22:27.520978Z",
     "start_time": "2025-03-12T01:22:27.494946Z"
    }
   },
   "cell_type": "code",
   "source": "p.do()",
   "id": "eda7282fc71741fd",
   "outputs": [
    {
     "ename": "TypeError",
     "evalue": "Program.do() takes 0 positional arguments but 1 was given",
     "output_type": "error",
     "traceback": [
      "\u001B[31m---------------------------------------------------------------------------\u001B[39m",
      "\u001B[31mTypeError\u001B[39m                                 Traceback (most recent call last)",
      "\u001B[36mCell\u001B[39m\u001B[36m \u001B[39m\u001B[32mIn[11]\u001B[39m\u001B[32m, line 1\u001B[39m\n\u001B[32m----> \u001B[39m\u001B[32m1\u001B[39m \u001B[43mp\u001B[49m\u001B[43m.\u001B[49m\u001B[43mdo\u001B[49m\u001B[43m(\u001B[49m\u001B[43m)\u001B[49m\n",
      "\u001B[31mTypeError\u001B[39m: Program.do() takes 0 positional arguments but 1 was given"
     ]
    }
   ],
   "execution_count": 11
  },
  {
   "metadata": {},
   "cell_type": "code",
   "outputs": [],
   "execution_count": null,
   "source": "",
   "id": "16b333ca67c762b8"
  },
  {
   "metadata": {
    "ExecuteTime": {
     "end_time": "2025-03-12T01:34:06.948233Z",
     "start_time": "2025-03-12T01:34:06.943327Z"
    }
   },
   "cell_type": "code",
   "source": [
    "class Program:\n",
    "    language = 'python'\n",
    "    def exec(obj, param):\n",
    "        print(f'Do smth using {obj.language} with params {param}')"
   ],
   "id": "685c7a1be774c863",
   "outputs": [],
   "execution_count": 14
  },
  {
   "metadata": {
    "ExecuteTime": {
     "end_time": "2025-03-12T01:34:08.333477Z",
     "start_time": "2025-03-12T01:34:08.327224Z"
    }
   },
   "cell_type": "code",
   "source": [
    "python = Program()\n",
    "python.exec(1)"
   ],
   "id": "894fbbe7b08f1aea",
   "outputs": [
    {
     "name": "stdout",
     "output_type": "stream",
     "text": [
      "Do smth using python with params 1\n"
     ]
    }
   ],
   "execution_count": 15
  },
  {
   "metadata": {
    "ExecuteTime": {
     "end_time": "2025-03-12T01:34:49.487275Z",
     "start_time": "2025-03-12T01:34:49.479938Z"
    }
   },
   "cell_type": "code",
   "source": [
    "java = Program()\n",
    "java.language ='java'\n",
    "java.exec('2')"
   ],
   "id": "a97f251ffa734b22",
   "outputs": [
    {
     "name": "stdout",
     "output_type": "stream",
     "text": [
      "Do smth using java with params 2\n"
     ]
    }
   ],
   "execution_count": 16
  },
  {
   "metadata": {},
   "cell_type": "markdown",
   "source": "Which is the same as",
   "id": "f998f003e1017f5b"
  },
  {
   "metadata": {
    "ExecuteTime": {
     "end_time": "2025-03-12T01:35:24.144082Z",
     "start_time": "2025-03-12T01:35:24.138214Z"
    }
   },
   "cell_type": "code",
   "source": "Program.exec(java, '2')",
   "id": "141b31d83b32f5e5",
   "outputs": [
    {
     "name": "stdout",
     "output_type": "stream",
     "text": [
      "Do smth using java with params 2\n"
     ]
    }
   ],
   "execution_count": 17
  },
  {
   "metadata": {
    "ExecuteTime": {
     "end_time": "2025-03-12T01:38:37.589306Z",
     "start_time": "2025-03-12T01:38:37.580937Z"
    }
   },
   "cell_type": "code",
   "source": "type(Program.exec)",
   "id": "9bf95529ce634cf7",
   "outputs": [
    {
     "data": {
      "text/plain": [
       "function"
      ]
     },
     "execution_count": 19,
     "metadata": {},
     "output_type": "execute_result"
    }
   ],
   "execution_count": 19
  },
  {
   "metadata": {},
   "cell_type": "markdown",
   "source": "but on instance level it is bound method",
   "id": "c0ff33eee68a0519"
  },
  {
   "metadata": {
    "ExecuteTime": {
     "end_time": "2025-03-12T01:39:31.573929Z",
     "start_time": "2025-03-12T01:39:31.567016Z"
    }
   },
   "cell_type": "code",
   "source": "java.exec",
   "id": "ef5406c4dbde8229",
   "outputs": [
    {
     "data": {
      "text/plain": [
       "<bound method Program.exec of <__main__.Program object at 0x0000022208FFC790>>"
      ]
     },
     "execution_count": 20,
     "metadata": {},
     "output_type": "execute_result"
    }
   ],
   "execution_count": 20
  },
  {
   "metadata": {
    "ExecuteTime": {
     "end_time": "2025-03-12T02:11:30.351706Z",
     "start_time": "2025-03-12T02:11:30.340196Z"
    }
   },
   "cell_type": "code",
   "source": "java.exec.__func__",
   "id": "2f5552647c81f148",
   "outputs": [
    {
     "data": {
      "text/plain": [
       "<function __main__.Program.exec(obj, param)>"
      ]
     },
     "execution_count": 30,
     "metadata": {},
     "output_type": "execute_result"
    }
   ],
   "execution_count": 30
  },
  {
   "metadata": {
    "ExecuteTime": {
     "end_time": "2025-03-12T01:40:57.578213Z",
     "start_time": "2025-03-12T01:40:57.569504Z"
    }
   },
   "cell_type": "code",
   "source": "hex(id(java))",
   "id": "8a33e7cd526ae87d",
   "outputs": [
    {
     "data": {
      "text/plain": [
       "'0x22208ffc790'"
      ]
     },
     "execution_count": 26,
     "metadata": {},
     "output_type": "execute_result"
    }
   ],
   "execution_count": 26
  },
  {
   "metadata": {
    "ExecuteTime": {
     "end_time": "2025-03-12T01:40:56.698500Z",
     "start_time": "2025-03-12T01:40:56.692358Z"
    }
   },
   "cell_type": "code",
   "source": "hex(id(java.exec))",
   "id": "4412b6d8a07b6c8d",
   "outputs": [
    {
     "data": {
      "text/plain": [
       "'0x22208ff66c0'"
      ]
     },
     "execution_count": 25,
     "metadata": {},
     "output_type": "execute_result"
    }
   ],
   "execution_count": 25
  },
  {
   "metadata": {
    "ExecuteTime": {
     "end_time": "2025-03-12T01:41:44.752800Z",
     "start_time": "2025-03-12T01:41:44.744309Z"
    }
   },
   "cell_type": "code",
   "source": "type(java.exec)",
   "id": "5271434f9058facb",
   "outputs": [
    {
     "data": {
      "text/plain": [
       "method"
      ]
     },
     "execution_count": 27,
     "metadata": {},
     "output_type": "execute_result"
    }
   ],
   "execution_count": 27
  },
  {
   "metadata": {},
   "cell_type": "markdown",
   "source": "Monkey patching",
   "id": "3d43bd02478b5db1"
  },
  {
   "metadata": {
    "ExecuteTime": {
     "end_time": "2025-03-12T02:15:58.159893Z",
     "start_time": "2025-03-12T02:15:58.154701Z"
    }
   },
   "cell_type": "code",
   "source": [
    "class MyApp:\n",
    "    def go(self):\n",
    "        return f'call method from {self}'"
   ],
   "id": "712a15816c684031",
   "outputs": [],
   "execution_count": 31
  },
  {
   "metadata": {
    "ExecuteTime": {
     "end_time": "2025-03-12T02:16:22.898438Z",
     "start_time": "2025-03-12T02:16:22.890515Z"
    }
   },
   "cell_type": "code",
   "source": [
    "app = MyApp()\n",
    "\n",
    "app.go()"
   ],
   "id": "77a1243f88fbaebe",
   "outputs": [
    {
     "data": {
      "text/plain": [
       "'call method from <__main__.MyApp object at 0x0000022208FCE6D0>'"
      ]
     },
     "execution_count": 32,
     "metadata": {},
     "output_type": "execute_result"
    }
   ],
   "execution_count": 32
  },
  {
   "metadata": {},
   "cell_type": "markdown",
   "source": "Patching the class definition at runtime",
   "id": "940e1421af831a88"
  },
  {
   "metadata": {
    "ExecuteTime": {
     "end_time": "2025-03-12T02:17:57.722210Z",
     "start_time": "2025-03-12T02:17:57.717764Z"
    }
   },
   "cell_type": "code",
   "source": "MyApp.run = lambda self: f'exec run on {self}'",
   "id": "f3b0737c0a72ffce",
   "outputs": [],
   "execution_count": 33
  },
  {
   "metadata": {
    "ExecuteTime": {
     "end_time": "2025-03-12T02:18:41.825172Z",
     "start_time": "2025-03-12T02:18:41.817649Z"
    }
   },
   "cell_type": "code",
   "source": "app.run",
   "id": "dc41de2014feca6d",
   "outputs": [
    {
     "data": {
      "text/plain": [
       "<bound method <lambda> of <__main__.MyApp object at 0x0000022208FCE6D0>>"
      ]
     },
     "execution_count": 35,
     "metadata": {},
     "output_type": "execute_result"
    }
   ],
   "execution_count": 35
  },
  {
   "metadata": {
    "ExecuteTime": {
     "end_time": "2025-03-12T02:18:02.115440Z",
     "start_time": "2025-03-12T02:18:02.108580Z"
    }
   },
   "cell_type": "code",
   "source": "app.run()",
   "id": "4143aa363e5e04a6",
   "outputs": [
    {
     "data": {
      "text/plain": [
       "'exec run on <__main__.MyApp object at 0x0000022208FCE6D0>'"
      ]
     },
     "execution_count": 34,
     "metadata": {},
     "output_type": "execute_result"
    }
   ],
   "execution_count": 34
  },
  {
   "metadata": {},
   "cell_type": "markdown",
   "source": "But if a new function is assigned to attribute it remains a function but not a method",
   "id": "43715345d574e791"
  },
  {
   "metadata": {
    "ExecuteTime": {
     "end_time": "2025-03-12T02:23:09.533308Z",
     "start_time": "2025-03-12T02:23:09.528307Z"
    }
   },
   "cell_type": "code",
   "source": "app.slide = lambda *args: f'slide function with {args}'",
   "id": "c152c14be5831968",
   "outputs": [],
   "execution_count": 36
  },
  {
   "metadata": {
    "ExecuteTime": {
     "end_time": "2025-03-12T02:23:23.313634Z",
     "start_time": "2025-03-12T02:23:23.307635Z"
    }
   },
   "cell_type": "code",
   "source": "app.slide",
   "id": "830fc14e7dfcf659",
   "outputs": [
    {
     "data": {
      "text/plain": [
       "<function __main__.<lambda>(*args)>"
      ]
     },
     "execution_count": 37,
     "metadata": {},
     "output_type": "execute_result"
    }
   ],
   "execution_count": 37
  },
  {
   "metadata": {
    "ExecuteTime": {
     "end_time": "2025-03-12T02:23:45.021668Z",
     "start_time": "2025-03-12T02:23:45.016154Z"
    }
   },
   "cell_type": "code",
   "source": "app.slide(4)",
   "id": "b0b7545226897ab1",
   "outputs": [
    {
     "data": {
      "text/plain": [
       "'slide function with (4,)'"
      ]
     },
     "execution_count": 39,
     "metadata": {},
     "output_type": "execute_result"
    }
   ],
   "execution_count": 39
  },
  {
   "metadata": {},
   "cell_type": "markdown",
   "source": "Bind new method to instance at runtime",
   "id": "79878252e7ce4548"
  },
  {
   "metadata": {
    "ExecuteTime": {
     "end_time": "2025-03-12T18:23:20.382522Z",
     "start_time": "2025-03-12T18:23:20.366745Z"
    }
   },
   "cell_type": "code",
   "source": [
    "modern_app = MyApp()\n",
    "\n",
    "from types import MethodType\n",
    "\n",
    "\n",
    "modern_app.whoami =  MethodType(lambda self: f'this is new method of instance {self}', modern_app)\n",
    "\n",
    "\n",
    "modern_app.whoami()\n"
   ],
   "id": "59bff4687a86c17b",
   "outputs": [
    {
     "data": {
      "text/plain": [
       "'this is new method of instance <__main__.MyApp object at 0x0000022208819310>'"
      ]
     },
     "execution_count": 40,
     "metadata": {},
     "output_type": "execute_result"
    }
   ],
   "execution_count": 40
  },
  {
   "metadata": {
    "ExecuteTime": {
     "end_time": "2025-03-12T18:32:10.432681Z",
     "start_time": "2025-03-12T18:32:10.422874Z"
    }
   },
   "cell_type": "code",
   "source": [
    "another_app =MyApp()\n",
    "\n",
    "another_app.__dict__ , modern_app.__dict__"
   ],
   "id": "da61187cc83c7f8e",
   "outputs": [
    {
     "data": {
      "text/plain": [
       "({},\n",
       " {'whoami': <bound method <lambda> of <__main__.MyApp object at 0x0000022208819310>>})"
      ]
     },
     "execution_count": 41,
     "metadata": {},
     "output_type": "execute_result"
    }
   ],
   "execution_count": 41
  },
  {
   "metadata": {
    "ExecuteTime": {
     "end_time": "2025-03-12T18:40:43.543507Z",
     "start_time": "2025-03-12T18:40:43.536221Z"
    }
   },
   "cell_type": "code",
   "source": [
    "class Worker:\n",
    "    def register(self, fn):\n",
    "        setattr(self, 'do', MethodType(fn, self))\n",
    "\n",
    "    def do_work(self):\n",
    "        do_work_fn = getattr(self, 'do', None)\n",
    "        if do_work_fn:\n",
    "            return do_work_fn()\n",
    "        else:\n",
    "            return f\"unable to do it\"\n",
    "\n"
   ],
   "id": "93547dab93c70fb9",
   "outputs": [],
   "execution_count": 42
  },
  {
   "metadata": {
    "ExecuteTime": {
     "end_time": "2025-03-12T18:42:26.523464Z",
     "start_time": "2025-03-12T18:42:26.514221Z"
    }
   },
   "cell_type": "code",
   "source": [
    "worker = Worker()\n",
    "\n",
    "worker.register(lambda self: f'I can shavle')\n",
    "\n",
    "\n",
    "worker.do_work()"
   ],
   "id": "72145237e7393805",
   "outputs": [
    {
     "data": {
      "text/plain": [
       "'I can shavle'"
      ]
     },
     "execution_count": 45,
     "metadata": {},
     "output_type": "execute_result"
    }
   ],
   "execution_count": 45
  }
 ],
 "metadata": {
  "kernelspec": {
   "display_name": "Python 3",
   "language": "python",
   "name": "python3"
  },
  "language_info": {
   "codemirror_mode": {
    "name": "ipython",
    "version": 2
   },
   "file_extension": ".py",
   "mimetype": "text/x-python",
   "name": "python",
   "nbconvert_exporter": "python",
   "pygments_lexer": "ipython2",
   "version": "2.7.6"
  }
 },
 "nbformat": 4,
 "nbformat_minor": 5
}
