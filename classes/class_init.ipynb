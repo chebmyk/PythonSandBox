{
 "cells": [
  {
   "cell_type": "code",
   "id": "initial_id",
   "metadata": {
    "collapsed": true,
    "ExecuteTime": {
     "end_time": "2025-03-12T14:15:42.022813Z",
     "start_time": "2025-03-12T14:15:42.012833Z"
    }
   },
   "source": [
    "class Person:\n",
    "    def __init__(self):\n",
    "        print(f'Init Person object')\n",
    "\n",
    "p = Person()"
   ],
   "outputs": [
    {
     "name": "stdout",
     "output_type": "stream",
     "text": [
      "Init Person object\n"
     ]
    }
   ],
   "execution_count": 1
  },
  {
   "metadata": {
    "ExecuteTime": {
     "end_time": "2025-03-12T14:16:05.647822Z",
     "start_time": "2025-03-12T14:16:05.639315Z"
    }
   },
   "cell_type": "code",
   "source": "hex(id(p))",
   "id": "9457322b21a489d8",
   "outputs": [
    {
     "data": {
      "text/plain": [
       "'0x2a8aca71f50'"
      ]
     },
     "execution_count": 2,
     "metadata": {},
     "output_type": "execute_result"
    }
   ],
   "execution_count": 2
  },
  {
   "metadata": {
    "ExecuteTime": {
     "end_time": "2025-03-12T14:16:43.613952Z",
     "start_time": "2025-03-12T14:16:43.607679Z"
    }
   },
   "cell_type": "code",
   "source": [
    "class Person:\n",
    "    def __init__(self, name):\n",
    "        self.name = name\n",
    "        print(f'Init Person object')\n",
    "\n",
    "p = Person('John')\n",
    "p.__dict__"
   ],
   "id": "23f9b1233e04815e",
   "outputs": [
    {
     "name": "stdout",
     "output_type": "stream",
     "text": [
      "Init Person object\n"
     ]
    },
    {
     "data": {
      "text/plain": [
       "{'name': 'John'}"
      ]
     },
     "execution_count": 3,
     "metadata": {},
     "output_type": "execute_result"
    }
   ],
   "execution_count": 3
  }
 ],
 "metadata": {
  "kernelspec": {
   "display_name": "Python 3",
   "language": "python",
   "name": "python3"
  },
  "language_info": {
   "codemirror_mode": {
    "name": "ipython",
    "version": 2
   },
   "file_extension": ".py",
   "mimetype": "text/x-python",
   "name": "python",
   "nbconvert_exporter": "python",
   "pygments_lexer": "ipython2",
   "version": "2.7.6"
  }
 },
 "nbformat": 4,
 "nbformat_minor": 5
}
