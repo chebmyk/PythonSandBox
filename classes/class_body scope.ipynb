{
 "cells": [
  {
   "cell_type": "code",
   "id": "initial_id",
   "metadata": {
    "collapsed": true,
    "ExecuteTime": {
     "end_time": "2025-03-14T16:13:18.655887Z",
     "start_time": "2025-03-14T16:13:18.650013Z"
    }
   },
   "source": [
    "name  = 'John'\n",
    "\n",
    "\n",
    "class MyClass:\n",
    "    name = 'Nick'\n",
    "    list = [name]*3\n",
    "    list2 = [name for i in range(3)]\n",
    "\n",
    "    @classmethod\n",
    "    def hello(cls):\n",
    "        print(f'hello {name}')"
   ],
   "outputs": [],
   "execution_count": 2
  },
  {
   "metadata": {},
   "cell_type": "markdown",
   "source": "As Class methods belongs NOT to class body but exists on the module scope, name value was picked up from module scope",
   "id": "3728852794e2c8e7"
  },
  {
   "metadata": {
    "ExecuteTime": {
     "end_time": "2025-03-14T16:13:20.429398Z",
     "start_time": "2025-03-14T16:13:20.423646Z"
    }
   },
   "cell_type": "code",
   "source": "MyClass.hello()",
   "id": "8e7e102ea0265bd3",
   "outputs": [
    {
     "name": "stdout",
     "output_type": "stream",
     "text": [
      "hello John\n"
     ]
    }
   ],
   "execution_count": 3
  },
  {
   "metadata": {},
   "cell_type": "markdown",
   "source": "Class properties belongs to class body and available in class scope",
   "id": "a405b9a0c77d2406"
  },
  {
   "metadata": {
    "ExecuteTime": {
     "end_time": "2025-03-14T16:15:41.717848Z",
     "start_time": "2025-03-14T16:15:41.711825Z"
    }
   },
   "cell_type": "code",
   "source": "MyClass.list\n",
   "id": "262faa697ab3a440",
   "outputs": [
    {
     "data": {
      "text/plain": [
       "['Nick', 'Nick', 'Nick']"
      ]
     },
     "execution_count": 5,
     "metadata": {},
     "output_type": "execute_result"
    }
   ],
   "execution_count": 5
  },
  {
   "metadata": {},
   "cell_type": "markdown",
   "source": "List comprehension is a function. So as functions are NOT belogs to the class body the variable name was found in module scope",
   "id": "e226f93da9908e4c"
  },
  {
   "metadata": {
    "ExecuteTime": {
     "end_time": "2025-03-14T16:16:59.639158Z",
     "start_time": "2025-03-14T16:16:59.633931Z"
    }
   },
   "cell_type": "code",
   "source": "MyClass.list2",
   "id": "fe6e0c8c959c063e",
   "outputs": [
    {
     "data": {
      "text/plain": [
       "['John', 'John', 'John']"
      ]
     },
     "execution_count": 6,
     "metadata": {},
     "output_type": "execute_result"
    }
   ],
   "execution_count": 6
  }
 ],
 "metadata": {
  "kernelspec": {
   "display_name": "Python 3",
   "language": "python",
   "name": "python3"
  },
  "language_info": {
   "codemirror_mode": {
    "name": "ipython",
    "version": 2
   },
   "file_extension": ".py",
   "mimetype": "text/x-python",
   "name": "python",
   "nbconvert_exporter": "python",
   "pygments_lexer": "ipython2",
   "version": "2.7.6"
  }
 },
 "nbformat": 4,
 "nbformat_minor": 5
}
