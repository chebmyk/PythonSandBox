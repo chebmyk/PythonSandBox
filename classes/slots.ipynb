{
 "cells": [
  {
   "cell_type": "code",
   "id": "initial_id",
   "metadata": {
    "collapsed": true,
    "ExecuteTime": {
     "end_time": "2025-03-22T17:34:10.061462Z",
     "start_time": "2025-03-22T17:34:10.053049Z"
    }
   },
   "source": [
    "class Location:\n",
    "    __slots__ = ('name', '_longtitude', '_latitude')\n",
    "\n",
    "    def __init__(self, name, longtitude, latitude):\n",
    "        self.name = name\n",
    "        self._longtitude = longtitude\n",
    "        self._latitude  = latitude\n",
    "\n",
    "\n",
    "    @property\n",
    "    def longtitude(self):\n",
    "        return self._longtitude\n",
    "\n",
    "    @property\n",
    "    def latitude(self):\n",
    "        return self._latitude"
   ],
   "outputs": [],
   "execution_count": 12
  },
  {
   "metadata": {
    "ExecuteTime": {
     "end_time": "2025-03-22T17:34:10.089378Z",
     "start_time": "2025-03-22T17:34:10.078882Z"
    }
   },
   "cell_type": "code",
   "source": "Location.__dict__",
   "id": "248d5c394135aeab",
   "outputs": [
    {
     "data": {
      "text/plain": [
       "mappingproxy({'__module__': '__main__',\n",
       "              '__slots__': ('name', '_longtitude', '_latitude'),\n",
       "              '__init__': <function __main__.Location.__init__(self, name, longtitude, latitude)>,\n",
       "              'longtitude': <property at 0x173dd69c6d0>,\n",
       "              'latitude': <property at 0x173dd5df330>,\n",
       "              '_latitude': <member '_latitude' of 'Location' objects>,\n",
       "              '_longtitude': <member '_longtitude' of 'Location' objects>,\n",
       "              'name': <member 'name' of 'Location' objects>,\n",
       "              '__doc__': None})"
      ]
     },
     "execution_count": 13,
     "metadata": {},
     "output_type": "execute_result"
    }
   ],
   "execution_count": 13
  },
  {
   "metadata": {
    "ExecuteTime": {
     "end_time": "2025-03-22T17:34:10.118774Z",
     "start_time": "2025-03-22T17:34:10.108778Z"
    }
   },
   "cell_type": "code",
   "source": [
    "Location.mapping_service = 'Google Maps'\n",
    "\n",
    "Location.__dict__"
   ],
   "id": "9b8e1a8f6a1e159",
   "outputs": [
    {
     "data": {
      "text/plain": [
       "mappingproxy({'__module__': '__main__',\n",
       "              '__slots__': ('name', '_longtitude', '_latitude'),\n",
       "              '__init__': <function __main__.Location.__init__(self, name, longtitude, latitude)>,\n",
       "              'longtitude': <property at 0x173dd69c6d0>,\n",
       "              'latitude': <property at 0x173dd5df330>,\n",
       "              '_latitude': <member '_latitude' of 'Location' objects>,\n",
       "              '_longtitude': <member '_longtitude' of 'Location' objects>,\n",
       "              'name': <member 'name' of 'Location' objects>,\n",
       "              '__doc__': None,\n",
       "              'mapping_service': 'Google Maps'})"
      ]
     },
     "execution_count": 14,
     "metadata": {},
     "output_type": "execute_result"
    }
   ],
   "execution_count": 14
  },
  {
   "metadata": {},
   "cell_type": "markdown",
   "source": "Because we use slots class instance is no more support __dict__ and we are unable to assign new attributes",
   "id": "306476666343a145"
  },
  {
   "metadata": {
    "ExecuteTime": {
     "end_time": "2025-03-22T17:37:00.500806Z",
     "start_time": "2025-03-22T17:37:00.492231Z"
    }
   },
   "cell_type": "code",
   "source": "loc = Location('Europe', 12,33)\n",
   "id": "d0af550d5fbe7559",
   "outputs": [],
   "execution_count": 17
  },
  {
   "metadata": {
    "ExecuteTime": {
     "end_time": "2025-03-22T17:37:02.192118Z",
     "start_time": "2025-03-22T17:37:02.049189Z"
    }
   },
   "cell_type": "code",
   "source": "loc.service = 'GMaps'",
   "id": "54f2a1886500c6a1",
   "outputs": [
    {
     "ename": "AttributeError",
     "evalue": "'Location' object has no attribute 'service'",
     "output_type": "error",
     "traceback": [
      "\u001B[31m---------------------------------------------------------------------------\u001B[39m",
      "\u001B[31mAttributeError\u001B[39m                            Traceback (most recent call last)",
      "\u001B[36mCell\u001B[39m\u001B[36m \u001B[39m\u001B[32mIn[18]\u001B[39m\u001B[32m, line 1\u001B[39m\n\u001B[32m----> \u001B[39m\u001B[32m1\u001B[39m \u001B[43mloc\u001B[49m\u001B[43m.\u001B[49m\u001B[43mservice\u001B[49m = \u001B[33m'\u001B[39m\u001B[33mGMaps\u001B[39m\u001B[33m'\u001B[39m\n",
      "\u001B[31mAttributeError\u001B[39m: 'Location' object has no attribute 'service'"
     ]
    }
   ],
   "execution_count": 18
  },
  {
   "metadata": {
    "ExecuteTime": {
     "end_time": "2025-03-22T17:37:03.886332Z",
     "start_time": "2025-03-22T17:37:03.827287Z"
    }
   },
   "cell_type": "code",
   "source": "loc.__dict__",
   "id": "740b7f2271e33f8",
   "outputs": [
    {
     "ename": "AttributeError",
     "evalue": "'Location' object has no attribute '__dict__'",
     "output_type": "error",
     "traceback": [
      "\u001B[31m---------------------------------------------------------------------------\u001B[39m",
      "\u001B[31mAttributeError\u001B[39m                            Traceback (most recent call last)",
      "\u001B[36mCell\u001B[39m\u001B[36m \u001B[39m\u001B[32mIn[19]\u001B[39m\u001B[32m, line 1\u001B[39m\n\u001B[32m----> \u001B[39m\u001B[32m1\u001B[39m \u001B[43mloc\u001B[49m\u001B[43m.\u001B[49m\u001B[34;43m__dict__\u001B[39;49m\n",
      "\u001B[31mAttributeError\u001B[39m: 'Location' object has no attribute '__dict__'"
     ]
    }
   ],
   "execution_count": 19
  },
  {
   "metadata": {},
   "cell_type": "markdown",
   "source": "Slots and single inheritance",
   "id": "e6eef2b33e8edea0"
  },
  {
   "metadata": {},
   "cell_type": "markdown",
   "source": "",
   "id": "7f8429649118ba00"
  },
  {
   "metadata": {
    "ExecuteTime": {
     "end_time": "2025-03-22T17:45:56.444637Z",
     "start_time": "2025-03-22T17:45:56.438563Z"
    }
   },
   "cell_type": "code",
   "source": [
    "class Person:\n",
    "    __slots__ = ('name')\n",
    "    def __init__(self, name):\n",
    "        self.name = name\n",
    "\n",
    "class Student(Person):\n",
    "    pass\n",
    "\n",
    "\n",
    "\n"
   ],
   "id": "4995ace811a89373",
   "outputs": [],
   "execution_count": 21
  },
  {
   "metadata": {
    "ExecuteTime": {
     "end_time": "2025-03-22T17:47:06.373384Z",
     "start_time": "2025-03-22T17:47:06.340985Z"
    }
   },
   "cell_type": "code",
   "source": [
    "p =Person('Nick')\n",
    "p.__dict__"
   ],
   "id": "e606b41e4cc68714",
   "outputs": [
    {
     "ename": "AttributeError",
     "evalue": "'Person' object has no attribute '__dict__'",
     "output_type": "error",
     "traceback": [
      "\u001B[31m---------------------------------------------------------------------------\u001B[39m",
      "\u001B[31mAttributeError\u001B[39m                            Traceback (most recent call last)",
      "\u001B[36mCell\u001B[39m\u001B[36m \u001B[39m\u001B[32mIn[23]\u001B[39m\u001B[32m, line 2\u001B[39m\n\u001B[32m      1\u001B[39m p =Person(\u001B[33m'\u001B[39m\u001B[33mNick\u001B[39m\u001B[33m'\u001B[39m)\n\u001B[32m----> \u001B[39m\u001B[32m2\u001B[39m \u001B[43mp\u001B[49m\u001B[43m.\u001B[49m\u001B[34;43m__dict__\u001B[39;49m\n",
      "\u001B[31mAttributeError\u001B[39m: 'Person' object has no attribute '__dict__'"
     ]
    }
   ],
   "execution_count": 23
  },
  {
   "metadata": {
    "ExecuteTime": {
     "end_time": "2025-03-22T17:47:37.354033Z",
     "start_time": "2025-03-22T17:47:37.347036Z"
    }
   },
   "cell_type": "code",
   "source": [
    "student =Student('Alex')\n",
    "student.age = 20\n",
    "student.__dict__"
   ],
   "id": "6ab8e397114f6dd6",
   "outputs": [
    {
     "data": {
      "text/plain": [
       "{'age': 20}"
      ]
     },
     "execution_count": 25,
     "metadata": {},
     "output_type": "execute_result"
    }
   ],
   "execution_count": 25
  }
 ],
 "metadata": {
  "kernelspec": {
   "display_name": "Python 3",
   "language": "python",
   "name": "python3"
  },
  "language_info": {
   "codemirror_mode": {
    "name": "ipython",
    "version": 2
   },
   "file_extension": ".py",
   "mimetype": "text/x-python",
   "name": "python",
   "nbconvert_exporter": "python",
   "pygments_lexer": "ipython2",
   "version": "2.7.6"
  }
 },
 "nbformat": 4,
 "nbformat_minor": 5
}
