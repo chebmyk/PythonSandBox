{
 "cells": [
  {
   "metadata": {},
   "cell_type": "raw",
   "source": "",
   "id": "8196d11ebe3a615b"
  },
  {
   "metadata": {},
   "cell_type": "markdown",
   "source": "Class definition",
   "id": "70ed1af267b7999e"
  },
  {
   "metadata": {
    "ExecuteTime": {
     "end_time": "2025-03-12T00:36:53.794387Z",
     "start_time": "2025-03-12T00:36:53.770386Z"
    }
   },
   "cell_type": "code",
   "source": [
    "class MyClass:\n",
    "    language = 'Python'\n",
    "\n",
    "print(MyClass.__dict__)"
   ],
   "id": "17e67dff7abacaf2",
   "outputs": [
    {
     "name": "stdout",
     "output_type": "stream",
     "text": [
      "{'__module__': '__main__', 'language': 'Python', '__dict__': <attribute '__dict__' of 'MyClass' objects>, '__weakref__': <attribute '__weakref__' of 'MyClass' objects>, '__doc__': None}\n"
     ]
    }
   ],
   "execution_count": 1
  },
  {
   "metadata": {},
   "cell_type": "markdown",
   "source": [
    "Instance of Class\n",
    "\n",
    "instance dictionary is empty"
   ],
   "id": "d7a41f5648ee1ef8"
  },
  {
   "metadata": {
    "ExecuteTime": {
     "end_time": "2025-03-12T00:44:49.490026Z",
     "start_time": "2025-03-12T00:44:49.483796Z"
    }
   },
   "cell_type": "code",
   "source": [
    "my = MyClass()\n",
    "\n",
    "print(my.__dict__)"
   ],
   "id": "7f0e3056203c9f6c",
   "outputs": [
    {
     "name": "stdout",
     "output_type": "stream",
     "text": [
      "{}\n"
     ]
    }
   ],
   "execution_count": 2
  },
  {
   "metadata": {},
   "cell_type": "markdown",
   "source": "Class property",
   "id": "6541a60327bb96b6"
  },
  {
   "metadata": {
    "ExecuteTime": {
     "end_time": "2025-03-12T00:45:47.195667Z",
     "start_time": "2025-03-12T00:45:47.182151Z"
    }
   },
   "cell_type": "code",
   "source": "MyClass.language",
   "id": "81dbf6cdf3752789",
   "outputs": [
    {
     "data": {
      "text/plain": [
       "'Python'"
      ]
     },
     "execution_count": 3,
     "metadata": {},
     "output_type": "execute_result"
    }
   ],
   "execution_count": 3
  },
  {
   "metadata": {},
   "cell_type": "markdown",
   "source": "Instance property  (if property is not found in instance dictionary then python try to find same property in class instance)",
   "id": "36431faea9881a50"
  },
  {
   "metadata": {
    "ExecuteTime": {
     "end_time": "2025-03-12T00:46:51.168454Z",
     "start_time": "2025-03-12T00:46:51.160366Z"
    }
   },
   "cell_type": "code",
   "source": "my.language",
   "id": "ee7c615b7c4fcf03",
   "outputs": [
    {
     "data": {
      "text/plain": [
       "'Python'"
      ]
     },
     "execution_count": 4,
     "metadata": {},
     "output_type": "execute_result"
    }
   ],
   "execution_count": 4
  },
  {
   "metadata": {},
   "cell_type": "markdown",
   "source": "Change instance propert",
   "id": "81ee57c8efb89809"
  },
  {
   "metadata": {
    "ExecuteTime": {
     "end_time": "2025-03-12T00:49:13.427628Z",
     "start_time": "2025-03-12T00:49:13.421132Z"
    }
   },
   "cell_type": "code",
   "source": [
    "my.language = \"Java\"\n",
    "\n",
    "print('instance dict:',my.__dict__)\n",
    "\n",
    "print('New instance property:',my.language)\n",
    "print('Class level property', MyClass.language)"
   ],
   "id": "83772d1bea5c7a4c",
   "outputs": [
    {
     "name": "stdout",
     "output_type": "stream",
     "text": [
      "instance dict: {'language': 'Java'}\n",
      "New instance property: Java\n",
      "Class level property Python\n"
     ]
    }
   ],
   "execution_count": 7
  },
  {
   "metadata": {},
   "cell_type": "markdown",
   "source": "Set attribute",
   "id": "f73a3eccbb1b2c1f"
  },
  {
   "metadata": {
    "ExecuteTime": {
     "end_time": "2025-03-12T00:50:31.181259Z",
     "start_time": "2025-03-12T00:50:31.172817Z"
    }
   },
   "cell_type": "code",
   "source": [
    "setattr(my, 'version', '3.11')\n",
    "\n",
    "my.__dict__"
   ],
   "id": "dc7431dc0f9a1962",
   "outputs": [
    {
     "data": {
      "text/plain": [
       "{'language': 'Java', 'version': '3.11'}"
      ]
     },
     "execution_count": 9,
     "metadata": {},
     "output_type": "execute_result"
    }
   ],
   "execution_count": 9
  },
  {
   "metadata": {},
   "cell_type": "markdown",
   "source": "Type of __dict__ of Class and Instance",
   "id": "f9fb5f169080b3a5"
  },
  {
   "metadata": {
    "ExecuteTime": {
     "end_time": "2025-03-12T01:03:44.506566Z",
     "start_time": "2025-03-12T01:03:44.497995Z"
    }
   },
   "cell_type": "code",
   "source": "type(MyClass.__dict__)",
   "id": "f5bbd6e4f08add9f",
   "outputs": [
    {
     "data": {
      "text/plain": [
       "mappingproxy"
      ]
     },
     "execution_count": 10,
     "metadata": {},
     "output_type": "execute_result"
    }
   ],
   "execution_count": 10
  },
  {
   "metadata": {
    "ExecuteTime": {
     "end_time": "2025-03-12T01:03:57.696803Z",
     "start_time": "2025-03-12T01:03:57.690291Z"
    }
   },
   "cell_type": "code",
   "source": "type(my.__dict__)",
   "id": "cc8ac25689b68ee7",
   "outputs": [
    {
     "data": {
      "text/plain": [
       "dict"
      ]
     },
     "execution_count": 11,
     "metadata": {},
     "output_type": "execute_result"
    }
   ],
   "execution_count": 11
  },
  {
   "metadata": {},
   "cell_type": "markdown",
   "source": "Instance dictionary can be modified as dictionary type",
   "id": "3c8457aeedaf706"
  },
  {
   "metadata": {
    "ExecuteTime": {
     "end_time": "2025-03-12T01:11:55.793328Z",
     "start_time": "2025-03-12T01:11:55.787230Z"
    }
   },
   "cell_type": "code",
   "source": [
    "my.__dict__['vendor'] = 'openjdk'\n",
    "\n",
    "print(my.__dict__)\n",
    "\n",
    "print('Vendor:', my.vendor)"
   ],
   "id": "f5a19f29ef5d56f9",
   "outputs": [
    {
     "name": "stdout",
     "output_type": "stream",
     "text": [
      "{'language': 'Java', 'version': '3.11', 'vendor': 'openjdk'}\n",
      "Vendor: openjdk\n"
     ]
    }
   ],
   "execution_count": 12
  },
  {
   "metadata": {},
   "cell_type": "markdown",
   "source": "Classes with private attributes",
   "id": "31de9034fd5eb9e9"
  },
  {
   "metadata": {
    "ExecuteTime": {
     "end_time": "2025-03-12T01:14:44.800531Z",
     "start_time": "2025-03-12T01:14:44.796049Z"
    }
   },
   "cell_type": "code",
   "source": [
    "class Program:\n",
    "    __version = '0.1.1'"
   ],
   "id": "7642cac6075b75c4",
   "outputs": [],
   "execution_count": 13
  },
  {
   "metadata": {
    "ExecuteTime": {
     "end_time": "2025-03-12T01:15:26.952287Z",
     "start_time": "2025-03-12T01:15:26.945396Z"
    }
   },
   "cell_type": "code",
   "source": "Program.__dict__",
   "id": "c8cbe1eb9a723795",
   "outputs": [
    {
     "data": {
      "text/plain": [
       "mappingproxy({'__module__': '__main__',\n",
       "              '_Program__version': '0.1.1',\n",
       "              '__dict__': <attribute '__dict__' of 'Program' objects>,\n",
       "              '__weakref__': <attribute '__weakref__' of 'Program' objects>,\n",
       "              '__doc__': None})"
      ]
     },
     "execution_count": 18,
     "metadata": {},
     "output_type": "execute_result"
    }
   ],
   "execution_count": 18
  },
  {
   "metadata": {
    "ExecuteTime": {
     "end_time": "2025-03-12T01:15:48.410156Z",
     "start_time": "2025-03-12T01:15:48.401642Z"
    }
   },
   "cell_type": "code",
   "source": "Program._Program__version",
   "id": "65079ba3d1f3897b",
   "outputs": [
    {
     "data": {
      "text/plain": [
       "'0.1.1'"
      ]
     },
     "execution_count": 19,
     "metadata": {},
     "output_type": "execute_result"
    }
   ],
   "execution_count": 19
  }
 ],
 "metadata": {
  "kernelspec": {
   "display_name": "Python 3",
   "language": "python",
   "name": "python3"
  },
  "language_info": {
   "codemirror_mode": {
    "name": "ipython",
    "version": 2
   },
   "file_extension": ".py",
   "mimetype": "text/x-python",
   "name": "python",
   "nbconvert_exporter": "python",
   "pygments_lexer": "ipython2",
   "version": "2.7.6"
  }
 },
 "nbformat": 4,
 "nbformat_minor": 5
}
