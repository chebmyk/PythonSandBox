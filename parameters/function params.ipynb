{
 "cells": [
  {
   "cell_type": "code",
   "id": "initial_id",
   "metadata": {
    "collapsed": true,
    "ExecuteTime": {
     "end_time": "2025-03-30T01:42:41.498915Z",
     "start_time": "2025-03-30T01:42:41.487829Z"
    }
   },
   "source": [
    "def add(a,b):\n",
    "    return a + b"
   ],
   "outputs": [],
   "execution_count": 1
  },
  {
   "metadata": {
    "ExecuteTime": {
     "end_time": "2025-03-30T01:42:50.772051Z",
     "start_time": "2025-03-30T01:42:50.762553Z"
    }
   },
   "cell_type": "code",
   "source": "add(1,2)",
   "id": "701e44964120ba65",
   "outputs": [
    {
     "data": {
      "text/plain": [
       "3"
      ]
     },
     "execution_count": 2,
     "metadata": {},
     "output_type": "execute_result"
    }
   ],
   "execution_count": 2
  },
  {
   "metadata": {
    "ExecuteTime": {
     "end_time": "2025-03-30T01:43:02.646749Z",
     "start_time": "2025-03-30T01:43:02.640698Z"
    }
   },
   "cell_type": "code",
   "source": "add(a=2,b=3) # you can specify the parameters by name",
   "id": "8afb8c389212d9e4",
   "outputs": [
    {
     "data": {
      "text/plain": [
       "5"
      ]
     },
     "execution_count": 3,
     "metadata": {},
     "output_type": "execute_result"
    }
   ],
   "execution_count": 3
  },
  {
   "metadata": {
    "ExecuteTime": {
     "end_time": "2025-03-30T01:43:39.757078Z",
     "start_time": "2025-03-30T01:43:39.749894Z"
    }
   },
   "cell_type": "code",
   "source": "add(b=5,a=2) # you can specify the parameters by name in any order",
   "id": "b0f3f56ec28447c4",
   "outputs": [
    {
     "data": {
      "text/plain": [
       "7"
      ]
     },
     "execution_count": 4,
     "metadata": {},
     "output_type": "execute_result"
    }
   ],
   "execution_count": 4
  },
  {
   "metadata": {
    "ExecuteTime": {
     "end_time": "2025-03-30T01:45:07.089729Z",
     "start_time": "2025-03-30T01:45:07.083832Z"
    }
   },
   "cell_type": "code",
   "source": [
    "def add3(a,b,/,c):\n",
    "    \"\"\"\n",
    "    This function adds two numbers together.\n",
    "\n",
    "    Parameters:\n",
    "    a (int or float): The first number.\n",
    "    b (int or float): The second number.\n",
    "\n",
    "    Returns:\n",
    "    int or float: The sum of a and b.\n",
    "    \"\"\"\n",
    "    return a + b +c"
   ],
   "id": "5e1dabc0ffa5fc7e",
   "outputs": [],
   "execution_count": 8
  },
  {
   "metadata": {
    "ExecuteTime": {
     "end_time": "2025-03-30T01:48:56.633199Z",
     "start_time": "2025-03-30T01:48:56.625921Z"
    }
   },
   "cell_type": "code",
   "source": "add3(1,2, c=3) # you can specify the last parameter by name, but not the first two due to the `/` in the function definition",
   "id": "109de130e0b51b5e",
   "outputs": [
    {
     "data": {
      "text/plain": [
       "6"
      ]
     },
     "execution_count": 15,
     "metadata": {},
     "output_type": "execute_result"
    }
   ],
   "execution_count": 15
  },
  {
   "metadata": {
    "ExecuteTime": {
     "end_time": "2025-03-30T01:45:08.517658Z",
     "start_time": "2025-03-30T01:45:08.510831Z"
    }
   },
   "cell_type": "code",
   "source": "add3(1,2,3)",
   "id": "883242729502753f",
   "outputs": [
    {
     "data": {
      "text/plain": [
       "6"
      ]
     },
     "execution_count": 9,
     "metadata": {},
     "output_type": "execute_result"
    }
   ],
   "execution_count": 9
  },
  {
   "metadata": {
    "ExecuteTime": {
     "end_time": "2025-03-30T01:46:46.713958Z",
     "start_time": "2025-03-30T01:46:46.688392Z"
    }
   },
   "cell_type": "code",
   "source": "add3(a=1,b=2,c=3) # you can not specify the parameters by name due to the `/` in the function definition",
   "id": "a028d5cb2c72ae94",
   "outputs": [
    {
     "ename": "TypeError",
     "evalue": "add3() got some positional-only arguments passed as keyword arguments: 'a, b'",
     "output_type": "error",
     "traceback": [
      "\u001B[31m---------------------------------------------------------------------------\u001B[39m",
      "\u001B[31mTypeError\u001B[39m                                 Traceback (most recent call last)",
      "\u001B[36mCell\u001B[39m\u001B[36m \u001B[39m\u001B[32mIn[11]\u001B[39m\u001B[32m, line 1\u001B[39m\n\u001B[32m----> \u001B[39m\u001B[32m1\u001B[39m \u001B[43madd3\u001B[49m\u001B[43m(\u001B[49m\u001B[43ma\u001B[49m\u001B[43m=\u001B[49m\u001B[32;43m1\u001B[39;49m\u001B[43m,\u001B[49m\u001B[43mb\u001B[49m\u001B[43m=\u001B[49m\u001B[32;43m2\u001B[39;49m\u001B[43m,\u001B[49m\u001B[43mc\u001B[49m\u001B[43m=\u001B[49m\u001B[32;43m3\u001B[39;49m\u001B[43m)\u001B[49m \u001B[38;5;66;03m# you can not specify the parameters by name due to the `/` in the function definition\u001B[39;00m\n",
      "\u001B[31mTypeError\u001B[39m: add3() got some positional-only arguments passed as keyword arguments: 'a, b'"
     ]
    }
   ],
   "execution_count": 11
  },
  {
   "metadata": {
    "ExecuteTime": {
     "end_time": "2025-03-30T01:49:57.031946Z",
     "start_time": "2025-03-30T01:49:57.026807Z"
    }
   },
   "cell_type": "code",
   "source": [
    "def mul3(a,b,*,c):\n",
    "    \"\"\"\n",
    "    This function adds two numbers together.\n",
    "\n",
    "    Parameters:\n",
    "    a (int or float): The first number.\n",
    "    b (int or float): The second number.\n",
    "\n",
    "    Returns:\n",
    "    int or float: The sum of a and b.\n",
    "\n",
    "    \"\"\"\n",
    "    print(f'{a=}, {b=}, {c=}') # this is just to show the values of the parameters\n",
    "\n",
    "    return a * b *c"
   ],
   "id": "9497a60bbf002846",
   "outputs": [],
   "execution_count": 16
  },
  {
   "metadata": {
    "ExecuteTime": {
     "end_time": "2025-03-30T01:49:58.588831Z",
     "start_time": "2025-03-30T01:49:58.565748Z"
    }
   },
   "cell_type": "code",
   "source": "mul3(1,2,3) # you can not specify the parameters by name due to the `*` in the function definition",
   "id": "6834e58abff5637c",
   "outputs": [
    {
     "ename": "TypeError",
     "evalue": "mul3() takes 2 positional arguments but 3 were given",
     "output_type": "error",
     "traceback": [
      "\u001B[31m---------------------------------------------------------------------------\u001B[39m",
      "\u001B[31mTypeError\u001B[39m                                 Traceback (most recent call last)",
      "\u001B[36mCell\u001B[39m\u001B[36m \u001B[39m\u001B[32mIn[17]\u001B[39m\u001B[32m, line 1\u001B[39m\n\u001B[32m----> \u001B[39m\u001B[32m1\u001B[39m \u001B[43mmul3\u001B[49m\u001B[43m(\u001B[49m\u001B[32;43m1\u001B[39;49m\u001B[43m,\u001B[49m\u001B[32;43m2\u001B[39;49m\u001B[43m,\u001B[49m\u001B[32;43m3\u001B[39;49m\u001B[43m)\u001B[49m \u001B[38;5;66;03m# you can not specify the parameters by name due to the `*` in the function definition\u001B[39;00m\n",
      "\u001B[31mTypeError\u001B[39m: mul3() takes 2 positional arguments but 3 were given"
     ]
    }
   ],
   "execution_count": 17
  },
  {
   "metadata": {
    "ExecuteTime": {
     "end_time": "2025-03-30T01:50:00.283399Z",
     "start_time": "2025-03-30T01:50:00.275327Z"
    }
   },
   "cell_type": "code",
   "source": "mul3(1,2,c=3)",
   "id": "8d935a34a11fccdb",
   "outputs": [
    {
     "name": "stdout",
     "output_type": "stream",
     "text": [
      "a=1, b=2, c=3\n"
     ]
    },
    {
     "data": {
      "text/plain": [
       "6"
      ]
     },
     "execution_count": 18,
     "metadata": {},
     "output_type": "execute_result"
    }
   ],
   "execution_count": 18
  }
 ],
 "metadata": {
  "kernelspec": {
   "display_name": "Python 3",
   "language": "python",
   "name": "python3"
  },
  "language_info": {
   "codemirror_mode": {
    "name": "ipython",
    "version": 2
   },
   "file_extension": ".py",
   "mimetype": "text/x-python",
   "name": "python",
   "nbconvert_exporter": "python",
   "pygments_lexer": "ipython2",
   "version": "2.7.6"
  }
 },
 "nbformat": 4,
 "nbformat_minor": 5
}
