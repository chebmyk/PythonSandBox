{
 "cells": [
  {
   "cell_type": "code",
   "id": "initial_id",
   "metadata": {
    "collapsed": true,
    "ExecuteTime": {
     "end_time": "2025-03-30T01:15:28.962160Z",
     "start_time": "2025-03-30T01:15:28.956347Z"
    }
   },
   "source": [
    "class GenericException(Exception):\n",
    "    \"\"\"\n",
    "    Base class for all exceptions in this module.\n",
    "    \"\"\"\n",
    "    pass\n",
    "\n",
    "class TimeoutException(GenericException):\n",
    "    \"\"\"\n",
    "    Raised when a timeout occurs.\n",
    "    \"\"\"\n",
    "    pass"
   ],
   "outputs": [],
   "execution_count": 4
  },
  {
   "metadata": {
    "ExecuteTime": {
     "end_time": "2025-03-30T01:15:28.984361Z",
     "start_time": "2025-03-30T01:15:28.980169Z"
    }
   },
   "cell_type": "code",
   "source": "from enum import Enum, unique",
   "id": "948849a302c90c3c",
   "outputs": [],
   "execution_count": 5
  },
  {
   "metadata": {
    "ExecuteTime": {
     "end_time": "2025-03-30T01:22:18.548339Z",
     "start_time": "2025-03-30T01:22:18.541132Z"
    }
   },
   "cell_type": "code",
   "source": [
    "@unique\n",
    "class AppException(Enum):\n",
    "    \"\"\"\n",
    "    Enum for different types of application exceptions.\n",
    "    Each exception type is associated with a unique integer value.\n",
    "    \"\"\"\n",
    "    GenericException = 100, GenericException, 'Application exception'\n",
    "    TimeoutException = 102, TimeoutException, 'Timeout occurred'\n",
    "    ValueErrorException = 200, ValueError, 'Value error occurred'\n",
    "    KeyErrorException = 201, KeyError, 'Key error occurred'\n",
    "\n",
    "    @property\n",
    "    def code(self):\n",
    "        return self.value\n",
    "\n",
    "    def throw(self):\n",
    "        raise self.exception(f\"{self.code}: {self.description}\")\n",
    "\n",
    "    def __new__(cls, excheption_code, exception_class, description):\n",
    "        \"\"\"\n",
    "        Create a new instance of the enum with the provided values.\n",
    "        :param excheption_code: Unique integer code for the exception.\n",
    "        :param exception_class: The actual exception class associated with the enum.\n",
    "        :param description: Description of the exception type.\n",
    "        \"\"\"\n",
    "        instance = object.__new__(cls)\n",
    "        instance._value_ = excheption_code\n",
    "        instance.exception = exception_class\n",
    "        instance.description = description\n",
    "        return instance"
   ],
   "id": "c179c4b6a2f94989",
   "outputs": [],
   "execution_count": 27
  },
  {
   "metadata": {
    "ExecuteTime": {
     "end_time": "2025-03-30T01:22:20.511534Z",
     "start_time": "2025-03-30T01:22:20.503305Z"
    }
   },
   "cell_type": "code",
   "source": "AppException.TimeoutException.value, AppException.TimeoutException.exception, AppException.TimeoutException.description",
   "id": "d8dceea42fb24fbc",
   "outputs": [
    {
     "data": {
      "text/plain": [
       "(102, __main__.TimeoutException, 'Timeout occurred')"
      ]
     },
     "execution_count": 28,
     "metadata": {},
     "output_type": "execute_result"
    }
   ],
   "execution_count": 28
  },
  {
   "metadata": {
    "ExecuteTime": {
     "end_time": "2025-03-30T01:22:21.938340Z",
     "start_time": "2025-03-30T01:22:21.931231Z"
    }
   },
   "cell_type": "code",
   "source": [
    "try:\n",
    "    # Simulate a timeout exception\n",
    "    raise AppException.TimeoutException.exception(\"This is a timeout error\")\n",
    "except AppException.TimeoutException.exception as e:\n",
    "    \"\"\"\n",
    "    Handle the timeout exception.\n",
    "    This block catches the simulated timeout exception and prints its message.\n",
    "    \"\"\"\n",
    "    print(f\"Caught an exception: {e}\")"
   ],
   "id": "3fcb49d920cfd270",
   "outputs": [
    {
     "name": "stdout",
     "output_type": "stream",
     "text": [
      "Caught an exception: This is a timeout error\n"
     ]
    }
   ],
   "execution_count": 29
  },
  {
   "metadata": {
    "ExecuteTime": {
     "end_time": "2025-03-30T01:23:34.814493Z",
     "start_time": "2025-03-30T01:23:34.807241Z"
    }
   },
   "cell_type": "code",
   "source": [
    "\n",
    "try:\n",
    "    # Simulate a timeout exception\n",
    "    AppException.TimeoutException.throw()\n",
    "except Exception as ex:\n",
    "    \"\"\"\n",
    "    Handle the timeout exception raised by the throw method.\n",
    "    This block catches the exception raised by the throw method and prints its message.\n",
    "    \"\"\"\n",
    "    print(f\"{ex}\")"
   ],
   "id": "f797e9aec3050f2c",
   "outputs": [
    {
     "name": "stdout",
     "output_type": "stream",
     "text": [
      "102: Timeout occurred\n"
     ]
    }
   ],
   "execution_count": 31
  },
  {
   "metadata": {
    "ExecuteTime": {
     "end_time": "2025-03-30T01:24:30.426522Z",
     "start_time": "2025-03-30T01:24:30.420Z"
    }
   },
   "cell_type": "code",
   "source": "list(AppException)",
   "id": "f0f86403b6395a31",
   "outputs": [
    {
     "data": {
      "text/plain": [
       "[<AppException.GenericException: 100>,\n",
       " <AppException.TimeoutException: 102>,\n",
       " <AppException.ValueErrorException: 200>,\n",
       " <AppException.KeyErrorException: 201>]"
      ]
     },
     "execution_count": 32,
     "metadata": {},
     "output_type": "execute_result"
    }
   ],
   "execution_count": 32
  },
  {
   "metadata": {
    "ExecuteTime": {
     "end_time": "2025-03-30T01:25:07.184616Z",
     "start_time": "2025-03-30T01:25:07.176277Z"
    }
   },
   "cell_type": "code",
   "source": "AppException.TimeoutException in AppException",
   "id": "4ad6ff455d075095",
   "outputs": [
    {
     "data": {
      "text/plain": [
       "True"
      ]
     },
     "execution_count": 33,
     "metadata": {},
     "output_type": "execute_result"
    }
   ],
   "execution_count": 33
  },
  {
   "metadata": {
    "ExecuteTime": {
     "end_time": "2025-03-30T01:25:37.061534Z",
     "start_time": "2025-03-30T01:25:37.055628Z"
    }
   },
   "cell_type": "code",
   "source": "[(item.name, item.value) for item in AppException]",
   "id": "a2ca8c53774f654a",
   "outputs": [
    {
     "data": {
      "text/plain": [
       "[('GenericException', 100),\n",
       " ('TimeoutException', 102),\n",
       " ('ValueErrorException', 200),\n",
       " ('KeyErrorException', 201)]"
      ]
     },
     "execution_count": 34,
     "metadata": {},
     "output_type": "execute_result"
    }
   ],
   "execution_count": 34
  }
 ],
 "metadata": {
  "kernelspec": {
   "display_name": "Python 3",
   "language": "python",
   "name": "python3"
  },
  "language_info": {
   "codemirror_mode": {
    "name": "ipython",
    "version": 2
   },
   "file_extension": ".py",
   "mimetype": "text/x-python",
   "name": "python",
   "nbconvert_exporter": "python",
   "pygments_lexer": "ipython2",
   "version": "2.7.6"
  }
 },
 "nbformat": 4,
 "nbformat_minor": 5
}
