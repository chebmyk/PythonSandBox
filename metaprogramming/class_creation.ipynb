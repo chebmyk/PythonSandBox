{
 "cells": [
  {
   "cell_type": "code",
   "id": "initial_id",
   "metadata": {
    "collapsed": true,
    "ExecuteTime": {
     "end_time": "2025-04-01T17:47:10.128630Z",
     "start_time": "2025-04-01T17:47:10.115033Z"
    }
   },
   "source": [
    "class Circle(object):\n",
    "    def __init__(self, radius):\n",
    "        self.radius = radius\n",
    "\n",
    "    def area(self):\n",
    "        return 3.14 * self.radius ** 2\n"
   ],
   "outputs": [],
   "execution_count": 1
  },
  {
   "metadata": {
    "ExecuteTime": {
     "end_time": "2025-04-01T17:47:10.145041Z",
     "start_time": "2025-04-01T17:47:10.130799Z"
    }
   },
   "cell_type": "code",
   "source": "\"Circle\" in globals()",
   "id": "e5722018dc54a1a1",
   "outputs": [
    {
     "data": {
      "text/plain": [
       "True"
      ]
     },
     "execution_count": 2,
     "metadata": {},
     "output_type": "execute_result"
    }
   ],
   "execution_count": 2
  },
  {
   "metadata": {
    "ExecuteTime": {
     "end_time": "2025-04-01T17:47:20.977327Z",
     "start_time": "2025-04-01T17:47:20.969482Z"
    }
   },
   "cell_type": "code",
   "source": "type(Circle)",
   "id": "5cae051e291c8411",
   "outputs": [
    {
     "data": {
      "text/plain": [
       "type"
      ]
     },
     "execution_count": 3,
     "metadata": {},
     "output_type": "execute_result"
    }
   ],
   "execution_count": 3
  },
  {
   "metadata": {
    "ExecuteTime": {
     "end_time": "2025-04-01T17:47:30.474613Z",
     "start_time": "2025-04-01T17:47:30.463245Z"
    }
   },
   "cell_type": "code",
   "source": "Circle",
   "id": "1aef3a434129c2a3",
   "outputs": [
    {
     "data": {
      "text/plain": [
       "__main__.Circle"
      ]
     },
     "execution_count": 4,
     "metadata": {},
     "output_type": "execute_result"
    }
   ],
   "execution_count": 4
  },
  {
   "metadata": {
    "ExecuteTime": {
     "end_time": "2025-04-01T17:49:42.630164Z",
     "start_time": "2025-04-01T17:49:42.623011Z"
    }
   },
   "cell_type": "code",
   "source": [
    "namespace = {}\n",
    "\n",
    "exec(\"\"\"\n",
    "a = 10\n",
    "b = 20\n",
    "\"\"\", globals(), namespace\n",
    ")"
   ],
   "id": "382f7ee1b09c69d7",
   "outputs": [],
   "execution_count": 11
  },
  {
   "metadata": {
    "ExecuteTime": {
     "end_time": "2025-04-01T17:49:44.356519Z",
     "start_time": "2025-04-01T17:49:44.349628Z"
    }
   },
   "cell_type": "code",
   "source": "namespace",
   "id": "7b167b27ac39e9d2",
   "outputs": [
    {
     "data": {
      "text/plain": [
       "{'a': 10, 'b': 20}"
      ]
     },
     "execution_count": 12,
     "metadata": {},
     "output_type": "execute_result"
    }
   ],
   "execution_count": 12
  },
  {
   "metadata": {
    "ExecuteTime": {
     "end_time": "2025-04-01T17:53:03.407173Z",
     "start_time": "2025-04-01T17:53:03.402726Z"
    }
   },
   "cell_type": "code",
   "source": [
    "class_name = 'Rectangle'\n",
    "\n",
    "class_body = \"\"\"\n",
    "def __init__(self, height, width):\n",
    "    self.height = height\n",
    "    self.width = width\n",
    "\n",
    "def area(self):\n",
    "    return self.height * self.width\n",
    "\"\"\""
   ],
   "id": "9702815a87091de4",
   "outputs": [],
   "execution_count": 18
  },
  {
   "metadata": {
    "ExecuteTime": {
     "end_time": "2025-04-01T17:53:48.197108Z",
     "start_time": "2025-04-01T17:53:48.187397Z"
    }
   },
   "cell_type": "code",
   "source": [
    "class_bases = ()\n",
    "class_dict ={}\n",
    "exec(class_body, globals(), class_dict)"
   ],
   "id": "9cd04008f295d130",
   "outputs": [],
   "execution_count": 19
  },
  {
   "metadata": {
    "ExecuteTime": {
     "end_time": "2025-04-01T17:56:17.624735Z",
     "start_time": "2025-04-01T17:56:17.618561Z"
    }
   },
   "cell_type": "code",
   "source": "class_dict",
   "id": "a516d2963260b6ae",
   "outputs": [
    {
     "data": {
      "text/plain": [
       "{'__init__': <function __main__.__init__(self, height, width)>,\n",
       " 'area': <function __main__.area(self)>}"
      ]
     },
     "execution_count": 25,
     "metadata": {},
     "output_type": "execute_result"
    }
   ],
   "execution_count": 25
  },
  {
   "metadata": {
    "ExecuteTime": {
     "end_time": "2025-04-01T17:56:19.151072Z",
     "start_time": "2025-04-01T17:56:19.146823Z"
    }
   },
   "cell_type": "code",
   "source": "Rectangle = type(class_name, class_bases, class_dict)",
   "id": "6aed3f2f54b222cf",
   "outputs": [],
   "execution_count": 26
  },
  {
   "metadata": {
    "ExecuteTime": {
     "end_time": "2025-04-01T17:56:20.467396Z",
     "start_time": "2025-04-01T17:56:20.460287Z"
    }
   },
   "cell_type": "code",
   "source": "Rectangle.__name__",
   "id": "61cf6c85eacce924",
   "outputs": [
    {
     "data": {
      "text/plain": [
       "'Rectangle'"
      ]
     },
     "execution_count": 27,
     "metadata": {},
     "output_type": "execute_result"
    }
   ],
   "execution_count": 27
  },
  {
   "metadata": {
    "ExecuteTime": {
     "end_time": "2025-04-01T17:56:22.541713Z",
     "start_time": "2025-04-01T17:56:22.535701Z"
    }
   },
   "cell_type": "code",
   "source": [
    "rec = Rectangle(2,4)\n",
    "print('area', rec.area())"
   ],
   "id": "650d6e6c12dafee",
   "outputs": [
    {
     "name": "stdout",
     "output_type": "stream",
     "text": [
      "area 8\n"
     ]
    }
   ],
   "execution_count": 28
  }
 ],
 "metadata": {
  "kernelspec": {
   "display_name": "Python 3",
   "language": "python",
   "name": "python3"
  },
  "language_info": {
   "codemirror_mode": {
    "name": "ipython",
    "version": 2
   },
   "file_extension": ".py",
   "mimetype": "text/x-python",
   "name": "python",
   "nbconvert_exporter": "python",
   "pygments_lexer": "ipython2",
   "version": "2.7.6"
  }
 },
 "nbformat": 4,
 "nbformat_minor": 5
}
