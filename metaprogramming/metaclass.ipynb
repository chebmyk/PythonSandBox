{
 "cells": [
  {
   "metadata": {},
   "cell_type": "markdown",
   "source": [
    "Metaclass\n",
    "\n",
    "type(name, bases, dict) is a function that creates a new type (class) dynamically. It takes three arguments:\n"
   ],
   "id": "3798d51985b47fbe"
  },
  {
   "cell_type": "code",
   "id": "initial_id",
   "metadata": {
    "collapsed": true,
    "ExecuteTime": {
     "end_time": "2025-04-01T19:05:55.463944Z",
     "start_time": "2025-04-01T19:05:55.457828Z"
    }
   },
   "source": [
    "# we can create a class which inherits the default `type`. Such classes are called metaclasses.\n",
    "\n",
    "class MyType(type):\n",
    "    def __new__(cls, name, bases, dict_):\n",
    "        print(f\"Creating class {name} with bases {bases} and attrs {dict_}\")\n",
    "        obj =  super().__new__(cls, name, bases, dict_)\n",
    "        obj.custom_info = lambda self: f\"Call default {self.__class__.__name__} info\"\n",
    "        return obj"
   ],
   "outputs": [],
   "execution_count": 14
  },
  {
   "metadata": {},
   "cell_type": "markdown",
   "source": [
    "We can use it to create a class dynamically. The `__new__` method of the metaclass is called when the class is created.\n",
    " It can be used to modify the class before it is created."
   ],
   "id": "68bcba1b205e4862"
  },
  {
   "metadata": {
    "ExecuteTime": {
     "end_time": "2025-04-01T19:05:56.839797Z",
     "start_time": "2025-04-01T19:05:56.829909Z"
    }
   },
   "cell_type": "code",
   "source": [
    "class Rectangle(metaclass=MyType):\n",
    "    def __init__(self, height, width):\n",
    "        self.height = height\n",
    "        self.width = width\n",
    "\n",
    "    def area(self):\n",
    "        return self.height * self.width"
   ],
   "id": "4cd2b715c6f7c74c",
   "outputs": [
    {
     "name": "stdout",
     "output_type": "stream",
     "text": [
      "Creating class Rectangle with bases () and attrs {'__module__': '__main__', '__qualname__': 'Rectangle', '__init__': <function Rectangle.__init__ at 0x0000020113D3C7C0>, 'area': <function Rectangle.area at 0x0000020113D3C2C0>}\n"
     ]
    }
   ],
   "execution_count": 15
  },
  {
   "metadata": {
    "ExecuteTime": {
     "end_time": "2025-04-01T19:05:58.006329Z",
     "start_time": "2025-04-01T19:05:57.996910Z"
    }
   },
   "cell_type": "code",
   "source": [
    "rec = Rectangle(2,4)\n",
    "print('area', rec.area())\n",
    "print('custom info', rec.custom_info())"
   ],
   "id": "1c6cd7fd6817151d",
   "outputs": [
    {
     "name": "stdout",
     "output_type": "stream",
     "text": [
      "area 8\n",
      "custom info Call default Rectangle\n"
     ]
    }
   ],
   "execution_count": 16
  },
  {
   "metadata": {},
   "cell_type": "markdown",
   "source": "###################################################   Meta class with parameters",
   "id": "4d795765265f3b73"
  },
  {
   "metadata": {
    "ExecuteTime": {
     "end_time": "2025-04-03T01:19:26.957818Z",
     "start_time": "2025-04-03T01:19:26.952803Z"
    }
   },
   "cell_type": "code",
   "source": [
    "class MyMetaclass(type):\n",
    "    def __new__(cls, name, bases, attrs, extra_args=None):\n",
    "        print(f\"Creating class {name} with bases {bases} and attrs {attrs}\")\n",
    "        if extra_args:\n",
    "            # add extra arguments to the class\n",
    "            for key, value in extra_args.items():\n",
    "                attrs[key] = value\n",
    "        return super().__new__(cls, name, bases, attrs)"
   ],
   "id": "681c8ed2341a6505",
   "outputs": [],
   "execution_count": 2
  },
  {
   "metadata": {
    "ExecuteTime": {
     "end_time": "2025-04-03T01:19:28.247066Z",
     "start_time": "2025-04-03T01:19:28.241934Z"
    }
   },
   "cell_type": "code",
   "source": [
    "class SavingAccount(metaclass=MyMetaclass, extra_args={'interest_rate': 0.05}):\n",
    "    def __init__(self, balance):\n",
    "        self.balance = balance\n",
    "\n",
    "    def deposit(self, amount):\n",
    "        self.balance += amount\n",
    "        print(f\"Deposited {amount}, new balance is {self.balance}\")\n",
    "\n",
    "    def withdraw(self, amount):\n",
    "        if amount > self.balance:\n",
    "            print(\"Insufficient funds\")\n",
    "        else:\n",
    "            self.balance -= amount\n",
    "            print(f\"Withdrew {amount}, new balance is {self.balance}\")"
   ],
   "id": "f3921777602e26c5",
   "outputs": [
    {
     "name": "stdout",
     "output_type": "stream",
     "text": [
      "Creating class SavingAccount with bases () and attrs {'__module__': '__main__', '__qualname__': 'SavingAccount', '__init__': <function SavingAccount.__init__ at 0x0000020AA40A05E0>, 'deposit': <function SavingAccount.deposit at 0x0000020AA40A04A0>, 'withdraw': <function SavingAccount.withdraw at 0x0000020AA40A0400>}\n"
     ]
    }
   ],
   "execution_count": 3
  },
  {
   "metadata": {
    "ExecuteTime": {
     "end_time": "2025-04-03T01:19:30.154792Z",
     "start_time": "2025-04-03T01:19:30.144565Z"
    }
   },
   "cell_type": "code",
   "source": "vars(SavingAccount)",
   "id": "60f070c661429f63",
   "outputs": [
    {
     "data": {
      "text/plain": [
       "mappingproxy({'__module__': '__main__',\n",
       "              '__init__': <function __main__.SavingAccount.__init__(self, balance)>,\n",
       "              'deposit': <function __main__.SavingAccount.deposit(self, amount)>,\n",
       "              'withdraw': <function __main__.SavingAccount.withdraw(self, amount)>,\n",
       "              'interest_rate': 0.05,\n",
       "              '__dict__': <attribute '__dict__' of 'SavingAccount' objects>,\n",
       "              '__weakref__': <attribute '__weakref__' of 'SavingAccount' objects>,\n",
       "              '__doc__': None})"
      ]
     },
     "execution_count": 4,
     "metadata": {},
     "output_type": "execute_result"
    }
   ],
   "execution_count": 4
  },
  {
   "metadata": {
    "ExecuteTime": {
     "end_time": "2025-04-03T01:20:25.164947Z",
     "start_time": "2025-04-03T01:20:25.158304Z"
    }
   },
   "cell_type": "code",
   "source": [
    "acc = SavingAccount(1000)\n",
    "print(\"Account balance:\", acc.balance)\n",
    "print(\"Interest rate:\", acc.interest_rate)"
   ],
   "id": "3b32c1a1cba00af5",
   "outputs": [
    {
     "name": "stdout",
     "output_type": "stream",
     "text": [
      "Account balance: 1000\n",
      "Interest rate: 0.05\n"
     ]
    }
   ],
   "execution_count": 5
  },
  {
   "metadata": {},
   "cell_type": "code",
   "outputs": [],
   "execution_count": null,
   "source": "",
   "id": "4dc489790369b01d"
  }
 ],
 "metadata": {
  "kernelspec": {
   "display_name": "Python 3",
   "language": "python",
   "name": "python3"
  },
  "language_info": {
   "codemirror_mode": {
    "name": "ipython",
    "version": 2
   },
   "file_extension": ".py",
   "mimetype": "text/x-python",
   "name": "python",
   "nbconvert_exporter": "python",
   "pygments_lexer": "ipython2",
   "version": "2.7.6"
  }
 },
 "nbformat": 4,
 "nbformat_minor": 5
}
