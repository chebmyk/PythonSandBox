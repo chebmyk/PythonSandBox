{
 "cells": [
  {
   "metadata": {},
   "cell_type": "markdown",
   "source": [
    "Metaclass\n",
    "\n",
    "type(name, bases, dict) is a function that creates a new type (class) dynamically. It takes three arguments:\n"
   ],
   "id": "3798d51985b47fbe"
  },
  {
   "cell_type": "code",
   "id": "initial_id",
   "metadata": {
    "collapsed": true,
    "ExecuteTime": {
     "end_time": "2025-04-01T19:05:55.463944Z",
     "start_time": "2025-04-01T19:05:55.457828Z"
    }
   },
   "source": [
    "# we can create a class which inherits the default `type`. Such classes are called metaclasses.\n",
    "\n",
    "class MyType(type):\n",
    "    def __new__(cls, name, bases, dict_):\n",
    "        print(f\"Creating class {name} with bases {bases} and attrs {dict_}\")\n",
    "        obj =  super().__new__(cls, name, bases, dict_)\n",
    "        obj.custom_info = lambda self: f\"Call default {self.__class__.__name__} info\"\n",
    "        return obj"
   ],
   "outputs": [],
   "execution_count": 14
  },
  {
   "metadata": {},
   "cell_type": "markdown",
   "source": [
    "We can use it to create a class dynamically. The `__new__` method of the metaclass is called when the class is created.\n",
    " It can be used to modify the class before it is created."
   ],
   "id": "68bcba1b205e4862"
  },
  {
   "metadata": {
    "ExecuteTime": {
     "end_time": "2025-04-01T19:05:56.839797Z",
     "start_time": "2025-04-01T19:05:56.829909Z"
    }
   },
   "cell_type": "code",
   "source": [
    "class Rectangle(metaclass=MyType):\n",
    "    def __init__(self, height, width):\n",
    "        self.height = height\n",
    "        self.width = width\n",
    "\n",
    "    def area(self):\n",
    "        return self.height * self.width"
   ],
   "id": "4cd2b715c6f7c74c",
   "outputs": [
    {
     "name": "stdout",
     "output_type": "stream",
     "text": [
      "Creating class Rectangle with bases () and attrs {'__module__': '__main__', '__qualname__': 'Rectangle', '__init__': <function Rectangle.__init__ at 0x0000020113D3C7C0>, 'area': <function Rectangle.area at 0x0000020113D3C2C0>}\n"
     ]
    }
   ],
   "execution_count": 15
  },
  {
   "metadata": {
    "ExecuteTime": {
     "end_time": "2025-04-01T19:05:58.006329Z",
     "start_time": "2025-04-01T19:05:57.996910Z"
    }
   },
   "cell_type": "code",
   "source": [
    "rec = Rectangle(2,4)\n",
    "print('area', rec.area())\n",
    "print('custom info', rec.custom_info())"
   ],
   "id": "1c6cd7fd6817151d",
   "outputs": [
    {
     "name": "stdout",
     "output_type": "stream",
     "text": [
      "area 8\n",
      "custom info Call default Rectangle\n"
     ]
    }
   ],
   "execution_count": 16
  }
 ],
 "metadata": {
  "kernelspec": {
   "display_name": "Python 3",
   "language": "python",
   "name": "python3"
  },
  "language_info": {
   "codemirror_mode": {
    "name": "ipython",
    "version": 2
   },
   "file_extension": ".py",
   "mimetype": "text/x-python",
   "name": "python",
   "nbconvert_exporter": "python",
   "pygments_lexer": "ipython2",
   "version": "2.7.6"
  }
 },
 "nbformat": 4,
 "nbformat_minor": 5
}
