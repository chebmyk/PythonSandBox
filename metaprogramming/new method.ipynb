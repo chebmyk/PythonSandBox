{
 "cells": [
  {
   "cell_type": "code",
   "id": "initial_id",
   "metadata": {
    "collapsed": true,
    "ExecuteTime": {
     "end_time": "2025-04-01T01:26:02.725774Z",
     "start_time": "2025-04-01T01:26:02.715558Z"
    }
   },
   "source": [
    "class Point:\n",
    "    def __new__(cls, x,y):\n",
    "        print(f\"Creating a new instance of Point {x}, {y}\")\n",
    "        instance = super().__new__(cls)\n",
    "        return instance\n",
    "\n",
    "    def __init__(self, x, y):\n",
    "        print(f\"Initializing the instance of Point {x}, {y}\")\n",
    "        self.x = x\n",
    "        self.y = y"
   ],
   "outputs": [],
   "execution_count": 12
  },
  {
   "metadata": {
    "ExecuteTime": {
     "end_time": "2025-04-01T01:26:02.758798Z",
     "start_time": "2025-04-01T01:26:02.753250Z"
    }
   },
   "cell_type": "code",
   "source": "p = Point(1,2)\n",
   "id": "d8df99174c3fd699",
   "outputs": [
    {
     "name": "stdout",
     "output_type": "stream",
     "text": [
      "Creating a new instance of Point 1, 2\n",
      "Initializing the instance of Point 1, 2\n"
     ]
    }
   ],
   "execution_count": 13
  },
  {
   "metadata": {
    "ExecuteTime": {
     "end_time": "2025-04-01T01:26:02.886071Z",
     "start_time": "2025-04-01T01:26:02.879868Z"
    }
   },
   "cell_type": "code",
   "source": [
    "class SQRT(int):\n",
    "    def __new__(cls, value):\n",
    "        print(f\"Creating a new instance of SQRT {value}\")\n",
    "        instance = super().__new__(cls, value ** 0.5)\n",
    "        return instance\n",
    "\n"
   ],
   "id": "578898d34af703ac",
   "outputs": [],
   "execution_count": 14
  },
  {
   "metadata": {
    "ExecuteTime": {
     "end_time": "2025-04-01T01:26:02.944644Z",
     "start_time": "2025-04-01T01:26:02.939592Z"
    }
   },
   "cell_type": "code",
   "source": [
    "sqrt4 = SQRT(4)\n",
    "print(sqrt4)"
   ],
   "id": "613dd76ec19db816",
   "outputs": [
    {
     "name": "stdout",
     "output_type": "stream",
     "text": [
      "Creating a new instance of SQRT 4\n",
      "2\n"
     ]
    }
   ],
   "execution_count": 15
  },
  {
   "metadata": {
    "ExecuteTime": {
     "end_time": "2025-04-01T01:41:18.226643Z",
     "start_time": "2025-04-01T01:41:18.216432Z"
    }
   },
   "cell_type": "code",
   "source": [
    "class Rectangle:\n",
    "    def __new__(cls, height, width):\n",
    "        print(f\"Creating a new instance of Rectangle {height}, {width}\")\n",
    "        cls.area = lambda self: self.height * self.width\n",
    "        instance = super().__new__(cls)\n",
    "        instance.height = height\n",
    "        instance.width = width\n",
    "\n",
    "        return instance\n"
   ],
   "id": "a6e2c2a727c90702",
   "outputs": [],
   "execution_count": 25
  },
  {
   "metadata": {
    "ExecuteTime": {
     "end_time": "2025-04-01T01:41:28.709263Z",
     "start_time": "2025-04-01T01:41:28.700230Z"
    }
   },
   "cell_type": "code",
   "source": [
    "rec = Rectangle(2,4)\n",
    "print('area', rec.area())"
   ],
   "id": "a3ae52f596dfc8f2",
   "outputs": [
    {
     "name": "stdout",
     "output_type": "stream",
     "text": [
      "Creating a new instance of Rectangle 2, 4\n",
      "area 8\n"
     ]
    }
   ],
   "execution_count": 27
  },
  {
   "metadata": {},
   "cell_type": "code",
   "outputs": [],
   "execution_count": null,
   "source": "",
   "id": "8ac2333166088de"
  }
 ],
 "metadata": {
  "kernelspec": {
   "display_name": "Python 3",
   "language": "python",
   "name": "python3"
  },
  "language_info": {
   "codemirror_mode": {
    "name": "ipython",
    "version": 2
   },
   "file_extension": ".py",
   "mimetype": "text/x-python",
   "name": "python",
   "nbconvert_exporter": "python",
   "pygments_lexer": "ipython2",
   "version": "2.7.6"
  }
 },
 "nbformat": 4,
 "nbformat_minor": 5
}
