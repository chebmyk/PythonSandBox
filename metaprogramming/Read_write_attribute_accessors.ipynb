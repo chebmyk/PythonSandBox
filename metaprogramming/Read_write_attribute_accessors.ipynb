{
 "cells": [
  {
   "cell_type": "code",
   "id": "initial_id",
   "metadata": {
    "collapsed": true,
    "ExecuteTime": {
     "end_time": "2025-04-07T00:56:13.974881Z",
     "start_time": "2025-04-07T00:56:13.970066Z"
    }
   },
   "source": [
    "class Person:\n",
    "    pass"
   ],
   "outputs": [],
   "execution_count": 28
  },
  {
   "metadata": {
    "ExecuteTime": {
     "end_time": "2025-04-07T00:56:13.997537Z",
     "start_time": "2025-04-07T00:56:13.991519Z"
    }
   },
   "cell_type": "code",
   "source": [
    "p = Person()\n",
    "\n",
    "try:\n",
    "    p.name\n",
    "except  AttributeError as e:\n",
    "    print(e)"
   ],
   "id": "1ad2e3ae986d94c9",
   "outputs": [
    {
     "name": "stdout",
     "output_type": "stream",
     "text": [
      "'Person' object has no attribute 'name'\n"
     ]
    }
   ],
   "execution_count": 29
  },
  {
   "metadata": {
    "ExecuteTime": {
     "end_time": "2025-04-07T00:58:15.786416Z",
     "start_time": "2025-04-07T00:58:15.777854Z"
    }
   },
   "cell_type": "code",
   "source": [
    "class Person:\n",
    "\n",
    "    def __getattribute__(self, item):\n",
    "        print(f\" 1st Trying to find {item}\")\n",
    "        return super().__getattribute__(item)\n",
    "\n",
    "    def __getattr__(self, item):\n",
    "        print(f\" if __getattribute__ was not able to find {item}, so it called __getattr__\")\n",
    "        return \"Not Found\"\n",
    "\n",
    "    def hello(self):\n",
    "        return \"Hello\""
   ],
   "id": "7b4a47345a26bc3",
   "outputs": [],
   "execution_count": 38
  },
  {
   "metadata": {
    "ExecuteTime": {
     "end_time": "2025-04-07T00:58:17.291467Z",
     "start_time": "2025-04-07T00:58:17.284012Z"
    }
   },
   "cell_type": "code",
   "source": [
    "p = Person()\n",
    "print(p.name)\n"
   ],
   "id": "6ae41237a44d0bee",
   "outputs": [
    {
     "name": "stdout",
     "output_type": "stream",
     "text": [
      " 1st Trying to find name\n",
      " if __getattribute__ was not able to find name, so it called __getattr__\n",
      "Not Found\n"
     ]
    }
   ],
   "execution_count": 39
  },
  {
   "metadata": {
    "ExecuteTime": {
     "end_time": "2025-04-07T00:58:18.856340Z",
     "start_time": "2025-04-07T00:58:18.845470Z"
    }
   },
   "cell_type": "code",
   "source": "p.hello()",
   "id": "fa2b5d8b814710ea",
   "outputs": [
    {
     "name": "stdout",
     "output_type": "stream",
     "text": [
      " 1st Trying to find hello\n"
     ]
    },
    {
     "data": {
      "text/plain": [
       "'Hello'"
      ]
     },
     "execution_count": 40,
     "metadata": {},
     "output_type": "execute_result"
    }
   ],
   "execution_count": 40
  },
  {
   "metadata": {
    "ExecuteTime": {
     "end_time": "2025-04-07T00:58:44.026395Z",
     "start_time": "2025-04-07T00:58:43.947987Z"
    }
   },
   "cell_type": "code",
   "source": "p.bye()",
   "id": "a54eaa703dea9010",
   "outputs": [
    {
     "name": "stdout",
     "output_type": "stream",
     "text": [
      " 1st Trying to find bye\n",
      " if __getattribute__ was not able to find bye, so it called __getattr__\n"
     ]
    },
    {
     "ename": "TypeError",
     "evalue": "'str' object is not callable",
     "output_type": "error",
     "traceback": [
      "\u001B[31m---------------------------------------------------------------------------\u001B[39m",
      "\u001B[31mTypeError\u001B[39m                                 Traceback (most recent call last)",
      "\u001B[36mCell\u001B[39m\u001B[36m \u001B[39m\u001B[32mIn[41]\u001B[39m\u001B[32m, line 1\u001B[39m\n\u001B[32m----> \u001B[39m\u001B[32m1\u001B[39m \u001B[43mp\u001B[49m\u001B[43m.\u001B[49m\u001B[43mbye\u001B[49m\u001B[43m(\u001B[49m\u001B[43m)\u001B[49m\n",
      "\u001B[31mTypeError\u001B[39m: 'str' object is not callable"
     ]
    }
   ],
   "execution_count": 41
  },
  {
   "metadata": {},
   "cell_type": "markdown",
   "source": "Try to find attribute within private attributes",
   "id": "2e0be168f80b5be1"
  },
  {
   "metadata": {
    "ExecuteTime": {
     "end_time": "2025-04-07T00:56:14.195441Z",
     "start_time": "2025-04-07T00:56:14.189471Z"
    }
   },
   "cell_type": "code",
   "source": [
    "class Person:\n",
    "\n",
    "    def __init__(self, age):\n",
    "        self._age = 0\n",
    "    def __getattr__(self, item):\n",
    "        alt_name = \"_\" + item\n",
    "        print(f\" __getattribute__ was not able to find {item}, so it called __getattr__\")\n",
    "        try:\n",
    "            print(f'Trying to find {alt_name}')\n",
    "            return super().__getattribute__(alt_name)  # !!! call super to avoid inifinite recursion\n",
    "        except AttributeError:\n",
    "            raise AttributeError(f\"Attribute {item} not found\")"
   ],
   "id": "9ec7e509317ca6a7",
   "outputs": [],
   "execution_count": 32
  },
  {
   "metadata": {
    "ExecuteTime": {
     "end_time": "2025-04-07T00:56:14.269439Z",
     "start_time": "2025-04-07T00:56:14.261381Z"
    }
   },
   "cell_type": "code",
   "source": [
    "p = Person(10)\n",
    "p.age"
   ],
   "id": "4c2d7e5e06fa8f65",
   "outputs": [
    {
     "name": "stdout",
     "output_type": "stream",
     "text": [
      " __getattribute__ was not able to find age, so it called __getattr__\n",
      "Trying to find _age\n"
     ]
    },
    {
     "data": {
      "text/plain": [
       "0"
      ]
     },
     "execution_count": 33,
     "metadata": {},
     "output_type": "execute_result"
    }
   ],
   "execution_count": 33
  },
  {
   "metadata": {},
   "cell_type": "markdown",
   "source": "Prevent access to private variables\n",
   "id": "ae3ed3ba061bd299"
  },
  {
   "metadata": {
    "ExecuteTime": {
     "end_time": "2025-04-07T00:56:14.324143Z",
     "start_time": "2025-04-07T00:56:14.316570Z"
    }
   },
   "cell_type": "code",
   "source": [
    "class Person:\n",
    "\n",
    "    def __init__(self, name):\n",
    "        self._name = name\n",
    "\n",
    "    @property\n",
    "    def name(self):\n",
    "        return super().__getattribute__('_name')\n",
    "\n",
    "    @name.setter\n",
    "    def name(self, value):\n",
    "        self._name = value\n",
    "\n",
    "    def __getattribute__(self, item):\n",
    "        if item.startswith('_') and not item.startswith('__'):\n",
    "            raise AttributeError(f\"Attribute {item} is private\")\n",
    "        return super().__getattribute__(item)"
   ],
   "id": "89451382a8829320",
   "outputs": [],
   "execution_count": 34
  },
  {
   "metadata": {},
   "cell_type": "markdown",
   "source": "",
   "id": "f831a90ab1b33480"
  },
  {
   "metadata": {
    "ExecuteTime": {
     "end_time": "2025-04-07T00:56:14.366915Z",
     "start_time": "2025-04-07T00:56:14.359790Z"
    }
   },
   "cell_type": "code",
   "source": [
    "p = Person(\"John\")\n",
    "print(p.name)\n",
    "try:\n",
    "    p._name\n",
    "except AttributeError as e:\n",
    "    print(e)"
   ],
   "id": "13ca733674b0d3a6",
   "outputs": [
    {
     "name": "stdout",
     "output_type": "stream",
     "text": [
      "John\n",
      "Attribute _name is private\n"
     ]
    }
   ],
   "execution_count": 35
  },
  {
   "metadata": {
    "ExecuteTime": {
     "end_time": "2025-04-07T00:56:14.411421Z",
     "start_time": "2025-04-07T00:56:14.404717Z"
    }
   },
   "cell_type": "code",
   "source": "p.__dict__",
   "id": "d8e1227a70625afb",
   "outputs": [
    {
     "data": {
      "text/plain": [
       "{'_name': 'John'}"
      ]
     },
     "execution_count": 36,
     "metadata": {},
     "output_type": "execute_result"
    }
   ],
   "execution_count": 36
  },
  {
   "metadata": {},
   "cell_type": "markdown",
   "source": "========================================================================================================",
   "id": "5a22a91f4e2a5907"
  },
  {
   "metadata": {},
   "cell_type": "markdown",
   "source": "============================================  Attribute Write accessors ==================",
   "id": "5c1f67ca3924a8"
  },
  {
   "metadata": {
    "ExecuteTime": {
     "end_time": "2025-04-07T01:02:27.264915Z",
     "start_time": "2025-04-07T01:02:27.258779Z"
    }
   },
   "cell_type": "code",
   "source": [
    "class Person:\n",
    "    def __setattr__(self, key, value):\n",
    "        print(f'Setting {key} to {value}')\n",
    "        super().__setattr__(key, value)"
   ],
   "id": "76955093ba559e6a",
   "outputs": [],
   "execution_count": 43
  },
  {
   "metadata": {
    "ExecuteTime": {
     "end_time": "2025-04-07T01:02:28.533967Z",
     "start_time": "2025-04-07T01:02:28.525840Z"
    }
   },
   "cell_type": "code",
   "source": [
    "p = Person()\n",
    "p.name = \"John\""
   ],
   "id": "53c8bbf4c578d29b",
   "outputs": [
    {
     "name": "stdout",
     "output_type": "stream",
     "text": [
      "Setting name to John\n"
     ]
    }
   ],
   "execution_count": 44
  },
  {
   "metadata": {},
   "cell_type": "markdown",
   "source": "Same with metaclass",
   "id": "e0fe8a177787760b"
  },
  {
   "metadata": {
    "ExecuteTime": {
     "end_time": "2025-04-07T01:04:49.003456Z",
     "start_time": "2025-04-07T01:04:48.995976Z"
    }
   },
   "cell_type": "code",
   "source": [
    "class PersonMeta(type):\n",
    "    def __setattr__(cls, key, value):\n",
    "        print(f'Setting class attr {key} to {value}')\n",
    "        super().__setattr__(key, value)\n",
    "\n",
    "class Person(metaclass=PersonMeta):\n",
    "    def __setattr__(cls, key, value):\n",
    "        print(f'Setting instance attr {key} to {value}')\n",
    "        super().__setattr__(key, value)"
   ],
   "id": "22a4054ecd3979ac",
   "outputs": [],
   "execution_count": 47
  },
  {
   "metadata": {
    "ExecuteTime": {
     "end_time": "2025-04-07T01:04:50.634240Z",
     "start_time": "2025-04-07T01:04:50.625581Z"
    }
   },
   "cell_type": "code",
   "source": "Person.name = \"John\"",
   "id": "9af0233920cf2c0b",
   "outputs": [
    {
     "name": "stdout",
     "output_type": "stream",
     "text": [
      "Setting class attr name to John\n"
     ]
    }
   ],
   "execution_count": 48
  },
  {
   "metadata": {
    "ExecuteTime": {
     "end_time": "2025-04-07T01:05:11.540552Z",
     "start_time": "2025-04-07T01:05:11.533117Z"
    }
   },
   "cell_type": "code",
   "source": [
    "p = Person()\n",
    "p.name = \"Val\""
   ],
   "id": "8b4e9d00c5e0534",
   "outputs": [
    {
     "name": "stdout",
     "output_type": "stream",
     "text": [
      "Setting instance attr name to Val\n"
     ]
    }
   ],
   "execution_count": 49
  },
  {
   "metadata": {},
   "cell_type": "markdown",
   "source": "======================Use value descriptors",
   "id": "449a838af5d421ba"
  },
  {
   "metadata": {
    "ExecuteTime": {
     "end_time": "2025-04-07T01:34:13.790154Z",
     "start_time": "2025-04-07T01:34:13.782153Z"
    }
   },
   "cell_type": "code",
   "source": [
    "class DataDescriptor:\n",
    "    def __init__(self, name):\n",
    "        self.name = name\n",
    "\n",
    "    def __get__(self, instance, owner):\n",
    "        print(f\"Descriptor Getting {self.name}\")\n",
    "        return instance.__dict__.get(self.name)\n",
    "\n",
    "    def __set__(self, instance, value):\n",
    "        print(f\"Descriptor Setting {self.name} to {value}\")\n",
    "        instance.__dict__[self.name] = value"
   ],
   "id": "5dc5ddf15a124c9d",
   "outputs": [],
   "execution_count": 50
  },
  {
   "metadata": {
    "ExecuteTime": {
     "end_time": "2025-04-07T01:34:14.889424Z",
     "start_time": "2025-04-07T01:34:14.884205Z"
    }
   },
   "cell_type": "code",
   "source": [
    "class NonDataDescriptor:\n",
    "    def __init__(self, name):\n",
    "        self.name = name\n",
    "\n",
    "    def __get__(self, instance, owner):\n",
    "        print(f\"Descriptor Getting {self.name}\")\n",
    "        return instance.__dict__.get(self.name)\n"
   ],
   "id": "bb2bdc7fe2625f23",
   "outputs": [],
   "execution_count": 51
  },
  {
   "metadata": {
    "ExecuteTime": {
     "end_time": "2025-04-07T01:34:15.985176Z",
     "start_time": "2025-04-07T01:34:15.980364Z"
    }
   },
   "cell_type": "code",
   "source": [
    "class MyClass:\n",
    "    data = DataDescriptor(\"data\")\n",
    "    non_data = NonDataDescriptor(\"non_data\")\n",
    "\n",
    "    def __setattr__(self, key, value):\n",
    "        print(f\"Instance __setattr__ called {key} to {value}\")\n",
    "        super().__setattr__(key, value)"
   ],
   "id": "2446ff8fc42dfcc1",
   "outputs": [],
   "execution_count": 52
  },
  {
   "metadata": {
    "ExecuteTime": {
     "end_time": "2025-04-07T01:34:29.300289Z",
     "start_time": "2025-04-07T01:34:29.294467Z"
    }
   },
   "cell_type": "code",
   "source": [
    "m = MyClass()\n",
    "m.__dict__"
   ],
   "id": "43ceb129b4722bc7",
   "outputs": [
    {
     "data": {
      "text/plain": [
       "{}"
      ]
     },
     "execution_count": 53,
     "metadata": {},
     "output_type": "execute_result"
    }
   ],
   "execution_count": 53
  },
  {
   "metadata": {
    "ExecuteTime": {
     "end_time": "2025-04-07T01:34:44.561874Z",
     "start_time": "2025-04-07T01:34:44.556619Z"
    }
   },
   "cell_type": "code",
   "source": "m.data = 10",
   "id": "2bec83eef74cbe28",
   "outputs": [
    {
     "name": "stdout",
     "output_type": "stream",
     "text": [
      "Instance __setattr__ called data to 10\n",
      "Descriptor Setting data to 10\n"
     ]
    }
   ],
   "execution_count": 54
  },
  {
   "metadata": {
    "ExecuteTime": {
     "end_time": "2025-04-07T01:35:30.903692Z",
     "start_time": "2025-04-07T01:35:30.899318Z"
    }
   },
   "cell_type": "code",
   "source": "m.non_data =500 # !! __setattr__ was called on instance despirte it is non-data descriptor which does not have __set__ method",
   "id": "49c24cca79d7f5f5",
   "outputs": [
    {
     "name": "stdout",
     "output_type": "stream",
     "text": [
      "Instance __setattr__ called non_data to 500\n"
     ]
    }
   ],
   "execution_count": 55
  },
  {
   "metadata": {
    "ExecuteTime": {
     "end_time": "2025-04-07T01:35:45.209810Z",
     "start_time": "2025-04-07T01:35:45.203369Z"
    }
   },
   "cell_type": "code",
   "source": "m.__dict__",
   "id": "4c3ea2dc5b9a27f1",
   "outputs": [
    {
     "data": {
      "text/plain": [
       "{'data': 10, 'non_data': 500}"
      ]
     },
     "execution_count": 56,
     "metadata": {},
     "output_type": "execute_result"
    }
   ],
   "execution_count": 56
  }
 ],
 "metadata": {
  "kernelspec": {
   "display_name": "Python 3",
   "language": "python",
   "name": "python3"
  },
  "language_info": {
   "codemirror_mode": {
    "name": "ipython",
    "version": 2
   },
   "file_extension": ".py",
   "mimetype": "text/x-python",
   "name": "python",
   "nbconvert_exporter": "python",
   "pygments_lexer": "ipython2",
   "version": "2.7.6"
  }
 },
 "nbformat": 4,
 "nbformat_minor": 5
}
