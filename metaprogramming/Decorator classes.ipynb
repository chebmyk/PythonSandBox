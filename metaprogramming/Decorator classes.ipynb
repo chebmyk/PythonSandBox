{
 "cells": [
  {
   "cell_type": "code",
   "id": "initial_id",
   "metadata": {
    "collapsed": true,
    "ExecuteTime": {
     "end_time": "2025-04-02T02:53:13.627104Z",
     "start_time": "2025-04-02T02:53:13.621178Z"
    }
   },
   "source": [
    "from types import MethodType\n",
    "\n",
    "\n",
    "class Logger:\n",
    "    def __init__(self, fn):\n",
    "        self.fn = fn\n",
    "\n",
    "    def __call__(self, *args, **kwargs):\n",
    "        print(f\"Calling {self.fn.__name__} with args: {args}, kwargs: {kwargs}\")\n",
    "        return self.fn(*args, **kwargs)\n",
    "\n",
    "    def __get__(self, instance, owner):\n",
    "        if instance is None:\n",
    "            return self\n",
    "        return MethodType(self, instance)"
   ],
   "outputs": [],
   "execution_count": 4
  },
  {
   "metadata": {
    "ExecuteTime": {
     "end_time": "2025-04-02T02:53:15.082597Z",
     "start_time": "2025-04-02T02:53:15.075311Z"
    }
   },
   "cell_type": "code",
   "source": [
    "\n",
    "def hello(name):\n",
    "    print(f\"Hello, {name}!\")\n",
    "\n",
    "f = Logger(hello)"
   ],
   "id": "eb9c8c390a808bd9",
   "outputs": [],
   "execution_count": 5
  },
  {
   "metadata": {
    "ExecuteTime": {
     "end_time": "2025-04-02T02:53:26.207912Z",
     "start_time": "2025-04-02T02:53:26.202845Z"
    }
   },
   "cell_type": "code",
   "source": "f('World')",
   "id": "6f5e248ea0a00823",
   "outputs": [
    {
     "name": "stdout",
     "output_type": "stream",
     "text": [
      "Calling hello with args: ('World',), kwargs: {}\n",
      "Hello, World!\n"
     ]
    }
   ],
   "execution_count": 7
  },
  {
   "metadata": {
    "ExecuteTime": {
     "end_time": "2025-04-02T02:54:12.749588Z",
     "start_time": "2025-04-02T02:54:12.743482Z"
    }
   },
   "cell_type": "code",
   "source": [
    "@Logger\n",
    "def flow(name):\n",
    "    print(f\"Flow, {name}!\")"
   ],
   "id": "ceb3464bad7198a",
   "outputs": [],
   "execution_count": 8
  },
  {
   "metadata": {
    "ExecuteTime": {
     "end_time": "2025-04-02T02:54:28.516157Z",
     "start_time": "2025-04-02T02:54:28.510548Z"
    }
   },
   "cell_type": "code",
   "source": "flow('water')",
   "id": "6f1affd5e29e452a",
   "outputs": [
    {
     "name": "stdout",
     "output_type": "stream",
     "text": [
      "Calling flow with args: ('water',), kwargs: {}\n",
      "Flow, water!\n"
     ]
    }
   ],
   "execution_count": 9
  }
 ],
 "metadata": {
  "kernelspec": {
   "display_name": "Python 3",
   "language": "python",
   "name": "python3"
  },
  "language_info": {
   "codemirror_mode": {
    "name": "ipython",
    "version": 2
   },
   "file_extension": ".py",
   "mimetype": "text/x-python",
   "name": "python",
   "nbconvert_exporter": "python",
   "pygments_lexer": "ipython2",
   "version": "2.7.6"
  }
 },
 "nbformat": 4,
 "nbformat_minor": 5
}
