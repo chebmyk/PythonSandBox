{
 "cells": [
  {
   "cell_type": "code",
   "id": "initial_id",
   "metadata": {
    "collapsed": true,
    "ExecuteTime": {
     "end_time": "2025-04-02T02:11:49.831467Z",
     "start_time": "2025-04-02T02:11:49.821959Z"
    }
   },
   "source": [
    "def savings(cls):\n",
    "    cls.account_type = 'savings'\n",
    "    return cls\n",
    "\n",
    "def checking(cls):\n",
    "    cls.account_type = 'checking'\n",
    "    return cls\n",
    "\n",
    "\n",
    "class Account:\n",
    "    pass\n",
    "\n",
    "\n",
    "@savings\n",
    "class Bank1Savings(Account):\n",
    "    pass\n",
    "\n",
    "@savings\n",
    "class Bank2Savings(Account):\n",
    "    pass\n",
    "\n",
    "\n",
    "@checking\n",
    "class Bank1Checking(Account):\n",
    "    pass\n",
    "\n",
    "@checking\n",
    "class Bank2Checking(Account):\n",
    "    pass"
   ],
   "outputs": [],
   "execution_count": 86
  },
  {
   "metadata": {
    "ExecuteTime": {
     "end_time": "2025-04-02T02:11:49.863806Z",
     "start_time": "2025-04-02T02:11:49.855940Z"
    }
   },
   "cell_type": "code",
   "source": [
    "b1_savings = Bank1Savings()\n",
    "b2_checking = Bank2Checking()\n",
    "\n",
    "print(b1_savings.account_type)\n",
    "print(b2_checking.account_type)"
   ],
   "id": "3b87b7626e03825a",
   "outputs": [
    {
     "name": "stdout",
     "output_type": "stream",
     "text": [
      "savings\n",
      "checking\n"
     ]
    }
   ],
   "execution_count": 87
  },
  {
   "metadata": {},
   "cell_type": "markdown",
   "source": "Enhance the `Account` class with another decorator",
   "id": "fec6b4ecf8469d24"
  },
  {
   "metadata": {
    "ExecuteTime": {
     "end_time": "2025-04-02T02:11:49.901325Z",
     "start_time": "2025-04-02T02:11:49.894319Z"
    }
   },
   "cell_type": "code",
   "source": [
    "def account_type(acc_type):\n",
    "    def inner(cls):\n",
    "        cls.account_type = acc_type\n",
    "        return cls\n",
    "    return inner"
   ],
   "id": "bda3844e5bfcc55a",
   "outputs": [],
   "execution_count": 88
  },
  {
   "metadata": {
    "ExecuteTime": {
     "end_time": "2025-04-02T02:11:49.963447Z",
     "start_time": "2025-04-02T02:11:49.955052Z"
    }
   },
   "cell_type": "code",
   "source": [
    "@account_type('checking')\n",
    "class BankChecking(Account):\n",
    "    pass"
   ],
   "id": "68b55a232889f824",
   "outputs": [],
   "execution_count": 89
  },
  {
   "metadata": {
    "ExecuteTime": {
     "end_time": "2025-04-02T02:11:50.017536Z",
     "start_time": "2025-04-02T02:11:50.014145Z"
    }
   },
   "cell_type": "code",
   "source": "",
   "id": "660919cf1115ef6b",
   "outputs": [],
   "execution_count": null
  },
  {
   "metadata": {
    "ExecuteTime": {
     "end_time": "2025-04-02T02:11:50.056749Z",
     "start_time": "2025-04-02T02:11:50.050021Z"
    }
   },
   "cell_type": "code",
   "source": [
    "bc = BankChecking()\n",
    "print(bc.account_type)"
   ],
   "id": "40607052877d623c",
   "outputs": [
    {
     "name": "stdout",
     "output_type": "stream",
     "text": [
      "checking\n"
     ]
    }
   ],
   "execution_count": 90
  },
  {
   "metadata": {},
   "cell_type": "markdown",
   "source": "Class decorator for all callable methods",
   "id": "d6ee73ed071677f8"
  },
  {
   "metadata": {
    "ExecuteTime": {
     "end_time": "2025-04-02T02:12:50.569478Z",
     "start_time": "2025-04-02T02:12:50.565372Z"
    }
   },
   "cell_type": "code",
   "source": [
    "def func_logger(cls):\n",
    "    @wraps(cls)\n",
    "    def inner(*args, **kwargs):\n",
    "        print(f\"Calling {cls.__name__} with args: {args}, kwargs: {kwargs}\")\n",
    "        return cls(*args, **kwargs)\n",
    "    return inner"
   ],
   "id": "5bd8f3992c9c474d",
   "outputs": [],
   "execution_count": 104
  },
  {
   "metadata": {
    "ExecuteTime": {
     "end_time": "2025-04-02T02:12:52.006247Z",
     "start_time": "2025-04-02T02:12:51.998757Z"
    }
   },
   "cell_type": "code",
   "source": [
    "class Person:\n",
    "    def __init__(self, name):\n",
    "        self.name = name\n",
    "\n",
    "    @func_logger\n",
    "    def greet(self):\n",
    "        print(f\"Hello, {self.name}!\")\n",
    "\n",
    "    @func_logger\n",
    "    def farewell(self):\n",
    "        print(f\"Goodbye, {self.name}!\")\n"
   ],
   "id": "6cc0c378cae1e0a1",
   "outputs": [],
   "execution_count": 105
  },
  {
   "metadata": {
    "ExecuteTime": {
     "end_time": "2025-04-02T02:12:54.621282Z",
     "start_time": "2025-04-02T02:12:54.613281Z"
    }
   },
   "cell_type": "code",
   "source": [
    "p =Person(\"John\")\n",
    "p.greet()"
   ],
   "id": "b19851aa662d3b58",
   "outputs": [
    {
     "name": "stdout",
     "output_type": "stream",
     "text": [
      "Calling greet with args: (<__main__.Person object at 0x000001E14C21F850>,), kwargs: {}\n",
      "Hello, John!\n"
     ]
    }
   ],
   "execution_count": 106
  },
  {
   "metadata": {
    "ExecuteTime": {
     "end_time": "2025-04-02T02:30:36.332448Z",
     "start_time": "2025-04-02T02:30:36.322615Z"
    }
   },
   "cell_type": "code",
   "source": [
    "from functools import wraps\n",
    "\n",
    "\n",
    "def logger(cls):\n",
    "    for attr_name, attr_value in cls.__dict__.items():\n",
    "        if callable(attr_value):\n",
    "            print('attr_name', attr_name)\n",
    "            print('attr_type', type(attr_value))\n",
    "            setattr(cls, attr_name, func_logger(attr_value))\n",
    "        elif isinstance(attr_value, staticmethod):\n",
    "            # Handle static methods\n",
    "            func = attr_value.__func__\n",
    "            setattr(cls, attr_name, staticmethod(func_logger(func)))\n",
    "        elif isinstance(attr_value, classmethod):\n",
    "            # Handle class methods\n",
    "            func = attr_value.__func__\n",
    "            setattr(cls, attr_name, classmethod(func_logger(func)))\n",
    "        elif isinstance(attr_value, property):\n",
    "            # Handle properties\n",
    "            if attr_value.fget:\n",
    "                attr_value = attr_value.getter(func_logger(attr_value.fget))\n",
    "            if attr_value.fset:\n",
    "                attr_value = attr_value.setter(func_logger(attr_value.fset))\n",
    "            setattr(cls, attr_name, attr_value)\n",
    "\n",
    "\n",
    "    return cls"
   ],
   "id": "123e4f30225ad5e7",
   "outputs": [],
   "execution_count": 121
  },
  {
   "metadata": {
    "ExecuteTime": {
     "end_time": "2025-04-02T02:30:39.125548Z",
     "start_time": "2025-04-02T02:30:39.114179Z"
    }
   },
   "cell_type": "code",
   "source": [
    "@logger\n",
    "class SomeObject:\n",
    "\n",
    "\n",
    "\n",
    "    def __init__(self):\n",
    "        print(\"SomeObject initialized\")\n",
    "\n",
    "    @property\n",
    "    def version(self):\n",
    "        return \"1.0\"\n",
    "\n",
    "    @version.setter\n",
    "    def version(self, value):\n",
    "        print(f\"Setting version to {value}\")\n",
    "\n",
    "    def method1(self, x):\n",
    "        print(f\"Method 1 called with {x}\")\n",
    "\n",
    "    @staticmethod\n",
    "    def static_method(y):\n",
    "        print(f\"Static Method 2 called with {y}\")\n",
    "\n",
    "    @classmethod\n",
    "    def class_method(cls, z):\n",
    "        print(f\"Class Method 3 called with {z}\")"
   ],
   "id": "94db2ab5857134b5",
   "outputs": [
    {
     "name": "stdout",
     "output_type": "stream",
     "text": [
      "attr_name __init__\n",
      "attr_type <class 'function'>\n",
      "attr_name method1\n",
      "attr_type <class 'function'>\n",
      "attr_name static_method\n",
      "attr_type <class 'staticmethod'>\n"
     ]
    }
   ],
   "execution_count": 122
  },
  {
   "metadata": {
    "ExecuteTime": {
     "end_time": "2025-04-02T02:30:55.716053Z",
     "start_time": "2025-04-02T02:30:55.709056Z"
    }
   },
   "cell_type": "code",
   "source": [
    "s = SomeObject()\n",
    "s.method1(10)\n",
    "SomeObject.static_method(20)\n",
    "SomeObject.class_method(30)\n",
    "s.version\n",
    "s.version = \"2.0\"\n",
    "\n"
   ],
   "id": "94687c9837dc5407",
   "outputs": [
    {
     "name": "stdout",
     "output_type": "stream",
     "text": [
      "Calling __init__ with args: (<__main__.SomeObject object at 0x000001E14C21D6D0>,), kwargs: {}\n",
      "SomeObject initialized\n",
      "Calling method1 with args: (<__main__.SomeObject object at 0x000001E14C21D6D0>, 10), kwargs: {}\n",
      "Method 1 called with 10\n",
      "Calling static_method with args: (20,), kwargs: {}\n",
      "Static Method 2 called with 20\n",
      "Calling class_method with args: (<class '__main__.SomeObject'>, 30), kwargs: {}\n",
      "Class Method 3 called with 30\n",
      "Calling version with args: (<__main__.SomeObject object at 0x000001E14C21D6D0>,), kwargs: {}\n",
      "Calling version with args: (<__main__.SomeObject object at 0x000001E14C21D6D0>, '2.0'), kwargs: {}\n",
      "Setting version to 2.0\n"
     ]
    }
   ],
   "execution_count": 125
  }
 ],
 "metadata": {
  "kernelspec": {
   "display_name": "Python 3",
   "language": "python",
   "name": "python3"
  },
  "language_info": {
   "codemirror_mode": {
    "name": "ipython",
    "version": 2
   },
   "file_extension": ".py",
   "mimetype": "text/x-python",
   "name": "python",
   "nbconvert_exporter": "python",
   "pygments_lexer": "ipython2",
   "version": "2.7.6"
  }
 },
 "nbformat": 4,
 "nbformat_minor": 5
}
